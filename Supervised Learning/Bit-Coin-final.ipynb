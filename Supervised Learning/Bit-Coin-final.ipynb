{
 "cells": [
  {
   "cell_type": "markdown",
   "metadata": {},
   "source": [
    "# Project 1\n",
    "\n",
    "Project description: \n",
    "- Read data into Jupyter notebook, use pandas to import data into a data frame\n",
    "- preprocess data: explore data, address missing data, categorical data, if there is any, and data scaling. Justify the type of scaling used in this project. \n",
    "- train your dataset using all the linear regression models you've learned so far. If your model has a scaling parameter(s) use Grid Search to find the best scaling parameter. Use plots and graphs to help you get a better glimpse of the results. \n",
    "- Then use cross validation to find average training and testing score. \n",
    "- Your submission should have at least the following regression models: KNN repressor, linear regression, Ridge, Lasso, polynomial regression, SVM both simple and with kernels. \n",
    "- Finally find the best repressor for this dataset and train your model on the entire dataset using the best parameters and predict the market price for the test_set.\n",
    "- submit IPython notebook. Use markdown to provide an inline report for this project."
   ]
  },
  {
   "cell_type": "markdown",
   "metadata": {},
   "source": [
    "##### <font color = 'red'> Important note: All the group members should participate in completing this project.  This includes coding, preparing report and testing the models. "
   ]
  },
  {
   "cell_type": "markdown",
   "metadata": {},
   "source": [
    "# Read data"
   ]
  },
  {
   "cell_type": "code",
   "execution_count": 1,
   "metadata": {},
   "outputs": [],
   "source": [
    "import pandas as pd\n",
    "import matplotlib.pyplot as plt\n",
    "import numpy as np\n",
    "\n",
    "\n",
    "data = pd.read_csv('bitcoin_dataset.csv')\n",
    "test = pd.read_csv('test_set.csv')"
   ]
  },
  {
   "cell_type": "markdown",
   "metadata": {},
   "source": [
    "# Checking the data\n",
    "We concluded that there is no cartegorical data in the data set."
   ]
  },
  {
   "cell_type": "code",
   "execution_count": 2,
   "metadata": {},
   "outputs": [
    {
     "data": {
      "text/html": [
       "<div>\n",
       "<style scoped>\n",
       "    .dataframe tbody tr th:only-of-type {\n",
       "        vertical-align: middle;\n",
       "    }\n",
       "\n",
       "    .dataframe tbody tr th {\n",
       "        vertical-align: top;\n",
       "    }\n",
       "\n",
       "    .dataframe thead th {\n",
       "        text-align: right;\n",
       "    }\n",
       "</style>\n",
       "<table border=\"1\" class=\"dataframe\">\n",
       "  <thead>\n",
       "    <tr style=\"text-align: right;\">\n",
       "      <th></th>\n",
       "      <th>Date</th>\n",
       "      <th>btc_market_price</th>\n",
       "      <th>btc_total_bitcoins</th>\n",
       "      <th>btc_market_cap</th>\n",
       "      <th>btc_trade_volume</th>\n",
       "      <th>btc_blocks_size</th>\n",
       "      <th>btc_avg_block_size</th>\n",
       "      <th>btc_n_orphaned_blocks</th>\n",
       "      <th>btc_n_transactions_per_block</th>\n",
       "      <th>btc_median_confirmation_time</th>\n",
       "      <th>...</th>\n",
       "      <th>btc_cost_per_transaction_percent</th>\n",
       "      <th>btc_cost_per_transaction</th>\n",
       "      <th>btc_n_unique_addresses</th>\n",
       "      <th>btc_n_transactions</th>\n",
       "      <th>btc_n_transactions_total</th>\n",
       "      <th>btc_n_transactions_excluding_popular</th>\n",
       "      <th>btc_n_transactions_excluding_chains_longer_than_100</th>\n",
       "      <th>btc_output_volume</th>\n",
       "      <th>btc_estimated_transaction_volume</th>\n",
       "      <th>btc_estimated_transaction_volume_usd</th>\n",
       "    </tr>\n",
       "  </thead>\n",
       "  <tbody>\n",
       "    <tr>\n",
       "      <th>0</th>\n",
       "      <td>2/17/2010 0:00</td>\n",
       "      <td>0.0</td>\n",
       "      <td>2043200.0</td>\n",
       "      <td>0.0</td>\n",
       "      <td>0.0</td>\n",
       "      <td>0.0</td>\n",
       "      <td>0.000235</td>\n",
       "      <td>0</td>\n",
       "      <td>1.0</td>\n",
       "      <td>0.0</td>\n",
       "      <td>...</td>\n",
       "      <td>31.781022</td>\n",
       "      <td>0.0</td>\n",
       "      <td>241</td>\n",
       "      <td>244</td>\n",
       "      <td>41240</td>\n",
       "      <td>244</td>\n",
       "      <td>244</td>\n",
       "      <td>65173.13</td>\n",
       "      <td>36500.0</td>\n",
       "      <td>0.0</td>\n",
       "    </tr>\n",
       "    <tr>\n",
       "      <th>1</th>\n",
       "      <td>2/18/2010 0:00</td>\n",
       "      <td>0.0</td>\n",
       "      <td>2054650.0</td>\n",
       "      <td>0.0</td>\n",
       "      <td>0.0</td>\n",
       "      <td>0.0</td>\n",
       "      <td>0.000241</td>\n",
       "      <td>0</td>\n",
       "      <td>1.0</td>\n",
       "      <td>0.0</td>\n",
       "      <td>...</td>\n",
       "      <td>154.463801</td>\n",
       "      <td>0.0</td>\n",
       "      <td>234</td>\n",
       "      <td>235</td>\n",
       "      <td>41475</td>\n",
       "      <td>235</td>\n",
       "      <td>235</td>\n",
       "      <td>18911.74</td>\n",
       "      <td>7413.0</td>\n",
       "      <td>0.0</td>\n",
       "    </tr>\n",
       "    <tr>\n",
       "      <th>2</th>\n",
       "      <td>2/19/2010 0:00</td>\n",
       "      <td>0.0</td>\n",
       "      <td>2063600.0</td>\n",
       "      <td>0.0</td>\n",
       "      <td>0.0</td>\n",
       "      <td>0.0</td>\n",
       "      <td>0.000228</td>\n",
       "      <td>0</td>\n",
       "      <td>1.0</td>\n",
       "      <td>0.0</td>\n",
       "      <td>...</td>\n",
       "      <td>1278.516635</td>\n",
       "      <td>0.0</td>\n",
       "      <td>185</td>\n",
       "      <td>183</td>\n",
       "      <td>41658</td>\n",
       "      <td>183</td>\n",
       "      <td>183</td>\n",
       "      <td>9749.98</td>\n",
       "      <td>700.0</td>\n",
       "      <td>0.0</td>\n",
       "    </tr>\n",
       "    <tr>\n",
       "      <th>3</th>\n",
       "      <td>2/20/2010 0:00</td>\n",
       "      <td>0.0</td>\n",
       "      <td>2074700.0</td>\n",
       "      <td>0.0</td>\n",
       "      <td>0.0</td>\n",
       "      <td>0.0</td>\n",
       "      <td>0.000218</td>\n",
       "      <td>0</td>\n",
       "      <td>1.0</td>\n",
       "      <td>0.0</td>\n",
       "      <td>...</td>\n",
       "      <td>22186.687990</td>\n",
       "      <td>0.0</td>\n",
       "      <td>224</td>\n",
       "      <td>224</td>\n",
       "      <td>41882</td>\n",
       "      <td>224</td>\n",
       "      <td>224</td>\n",
       "      <td>11150.03</td>\n",
       "      <td>50.0</td>\n",
       "      <td>0.0</td>\n",
       "    </tr>\n",
       "    <tr>\n",
       "      <th>4</th>\n",
       "      <td>2/21/2010 0:00</td>\n",
       "      <td>0.0</td>\n",
       "      <td>2085400.0</td>\n",
       "      <td>0.0</td>\n",
       "      <td>0.0</td>\n",
       "      <td>0.0</td>\n",
       "      <td>0.000234</td>\n",
       "      <td>0</td>\n",
       "      <td>1.0</td>\n",
       "      <td>0.0</td>\n",
       "      <td>...</td>\n",
       "      <td>689.179876</td>\n",
       "      <td>0.0</td>\n",
       "      <td>218</td>\n",
       "      <td>218</td>\n",
       "      <td>42100</td>\n",
       "      <td>218</td>\n",
       "      <td>218</td>\n",
       "      <td>12266.83</td>\n",
       "      <td>1553.0</td>\n",
       "      <td>0.0</td>\n",
       "    </tr>\n",
       "  </tbody>\n",
       "</table>\n",
       "<p>5 rows × 24 columns</p>\n",
       "</div>"
      ],
      "text/plain": [
       "             Date  btc_market_price  btc_total_bitcoins  btc_market_cap  \\\n",
       "0  2/17/2010 0:00               0.0           2043200.0             0.0   \n",
       "1  2/18/2010 0:00               0.0           2054650.0             0.0   \n",
       "2  2/19/2010 0:00               0.0           2063600.0             0.0   \n",
       "3  2/20/2010 0:00               0.0           2074700.0             0.0   \n",
       "4  2/21/2010 0:00               0.0           2085400.0             0.0   \n",
       "\n",
       "   btc_trade_volume  btc_blocks_size  btc_avg_block_size  \\\n",
       "0               0.0              0.0            0.000235   \n",
       "1               0.0              0.0            0.000241   \n",
       "2               0.0              0.0            0.000228   \n",
       "3               0.0              0.0            0.000218   \n",
       "4               0.0              0.0            0.000234   \n",
       "\n",
       "   btc_n_orphaned_blocks  btc_n_transactions_per_block  \\\n",
       "0                      0                           1.0   \n",
       "1                      0                           1.0   \n",
       "2                      0                           1.0   \n",
       "3                      0                           1.0   \n",
       "4                      0                           1.0   \n",
       "\n",
       "   btc_median_confirmation_time                  ...                   \\\n",
       "0                           0.0                  ...                    \n",
       "1                           0.0                  ...                    \n",
       "2                           0.0                  ...                    \n",
       "3                           0.0                  ...                    \n",
       "4                           0.0                  ...                    \n",
       "\n",
       "   btc_cost_per_transaction_percent  btc_cost_per_transaction  \\\n",
       "0                         31.781022                       0.0   \n",
       "1                        154.463801                       0.0   \n",
       "2                       1278.516635                       0.0   \n",
       "3                      22186.687990                       0.0   \n",
       "4                        689.179876                       0.0   \n",
       "\n",
       "   btc_n_unique_addresses  btc_n_transactions  btc_n_transactions_total  \\\n",
       "0                     241                 244                     41240   \n",
       "1                     234                 235                     41475   \n",
       "2                     185                 183                     41658   \n",
       "3                     224                 224                     41882   \n",
       "4                     218                 218                     42100   \n",
       "\n",
       "   btc_n_transactions_excluding_popular  \\\n",
       "0                                   244   \n",
       "1                                   235   \n",
       "2                                   183   \n",
       "3                                   224   \n",
       "4                                   218   \n",
       "\n",
       "   btc_n_transactions_excluding_chains_longer_than_100  btc_output_volume  \\\n",
       "0                                                244             65173.13   \n",
       "1                                                235             18911.74   \n",
       "2                                                183              9749.98   \n",
       "3                                                224             11150.03   \n",
       "4                                                218             12266.83   \n",
       "\n",
       "   btc_estimated_transaction_volume  btc_estimated_transaction_volume_usd  \n",
       "0                           36500.0                                   0.0  \n",
       "1                            7413.0                                   0.0  \n",
       "2                             700.0                                   0.0  \n",
       "3                              50.0                                   0.0  \n",
       "4                            1553.0                                   0.0  \n",
       "\n",
       "[5 rows x 24 columns]"
      ]
     },
     "execution_count": 2,
     "metadata": {},
     "output_type": "execute_result"
    }
   ],
   "source": [
    "data.head()"
   ]
  },
  {
   "cell_type": "code",
   "execution_count": 3,
   "metadata": {},
   "outputs": [
    {
     "data": {
      "text/plain": [
       "(2906, 24)"
      ]
     },
     "execution_count": 3,
     "metadata": {},
     "output_type": "execute_result"
    }
   ],
   "source": [
    "data.shape"
   ]
  },
  {
   "cell_type": "code",
   "execution_count": 4,
   "metadata": {},
   "outputs": [
    {
     "data": {
      "text/plain": [
       "Index(['Date', 'btc_market_price', 'btc_total_bitcoins', 'btc_market_cap',\n",
       "       'btc_trade_volume', 'btc_blocks_size', 'btc_avg_block_size',\n",
       "       'btc_n_orphaned_blocks', 'btc_n_transactions_per_block',\n",
       "       'btc_median_confirmation_time', 'btc_hash_rate', 'btc_difficulty',\n",
       "       'btc_miners_revenue', 'btc_transaction_fees',\n",
       "       'btc_cost_per_transaction_percent', 'btc_cost_per_transaction',\n",
       "       'btc_n_unique_addresses', 'btc_n_transactions',\n",
       "       'btc_n_transactions_total', 'btc_n_transactions_excluding_popular',\n",
       "       'btc_n_transactions_excluding_chains_longer_than_100',\n",
       "       'btc_output_volume', 'btc_estimated_transaction_volume',\n",
       "       'btc_estimated_transaction_volume_usd'],\n",
       "      dtype='object')"
      ]
     },
     "execution_count": 4,
     "metadata": {},
     "output_type": "execute_result"
    }
   ],
   "source": [
    "data.columns"
   ]
  },
  {
   "cell_type": "code",
   "execution_count": 5,
   "metadata": {},
   "outputs": [
    {
     "name": "stdout",
     "output_type": "stream",
     "text": [
      "<class 'pandas.core.frame.DataFrame'>\n",
      "RangeIndex: 2906 entries, 0 to 2905\n",
      "Data columns (total 24 columns):\n",
      "Date                                                   2906 non-null object\n",
      "btc_market_price                                       2906 non-null float64\n",
      "btc_total_bitcoins                                     2879 non-null float64\n",
      "btc_market_cap                                         2906 non-null float64\n",
      "btc_trade_volume                                       2885 non-null float64\n",
      "btc_blocks_size                                        2877 non-null float64\n",
      "btc_avg_block_size                                     2906 non-null float64\n",
      "btc_n_orphaned_blocks                                  2906 non-null int64\n",
      "btc_n_transactions_per_block                           2906 non-null float64\n",
      "btc_median_confirmation_time                           2894 non-null float64\n",
      "btc_hash_rate                                          2906 non-null float64\n",
      "btc_difficulty                                         2890 non-null float64\n",
      "btc_miners_revenue                                     2906 non-null float64\n",
      "btc_transaction_fees                                   2896 non-null float64\n",
      "btc_cost_per_transaction_percent                       2906 non-null float64\n",
      "btc_cost_per_transaction                               2906 non-null float64\n",
      "btc_n_unique_addresses                                 2906 non-null int64\n",
      "btc_n_transactions                                     2906 non-null int64\n",
      "btc_n_transactions_total                               2906 non-null int64\n",
      "btc_n_transactions_excluding_popular                   2906 non-null int64\n",
      "btc_n_transactions_excluding_chains_longer_than_100    2906 non-null int64\n",
      "btc_output_volume                                      2906 non-null float64\n",
      "btc_estimated_transaction_volume                       2906 non-null float64\n",
      "btc_estimated_transaction_volume_usd                   2906 non-null float64\n",
      "dtypes: float64(17), int64(6), object(1)\n",
      "memory usage: 545.0+ KB\n"
     ]
    }
   ],
   "source": [
    "data.info()"
   ]
  },
  {
   "cell_type": "code",
   "execution_count": 6,
   "metadata": {},
   "outputs": [
    {
     "data": {
      "text/plain": [
       "Date                                                    object\n",
       "btc_market_price                                       float64\n",
       "btc_total_bitcoins                                     float64\n",
       "btc_market_cap                                         float64\n",
       "btc_trade_volume                                       float64\n",
       "btc_blocks_size                                        float64\n",
       "btc_avg_block_size                                     float64\n",
       "btc_n_orphaned_blocks                                    int64\n",
       "btc_n_transactions_per_block                           float64\n",
       "btc_median_confirmation_time                           float64\n",
       "btc_hash_rate                                          float64\n",
       "btc_difficulty                                         float64\n",
       "btc_miners_revenue                                     float64\n",
       "btc_transaction_fees                                   float64\n",
       "btc_cost_per_transaction_percent                       float64\n",
       "btc_cost_per_transaction                               float64\n",
       "btc_n_unique_addresses                                   int64\n",
       "btc_n_transactions                                       int64\n",
       "btc_n_transactions_total                                 int64\n",
       "btc_n_transactions_excluding_popular                     int64\n",
       "btc_n_transactions_excluding_chains_longer_than_100      int64\n",
       "btc_output_volume                                      float64\n",
       "btc_estimated_transaction_volume                       float64\n",
       "btc_estimated_transaction_volume_usd                   float64\n",
       "dtype: object"
      ]
     },
     "execution_count": 6,
     "metadata": {},
     "output_type": "execute_result"
    }
   ],
   "source": [
    "data.dtypes"
   ]
  },
  {
   "cell_type": "code",
   "execution_count": 7,
   "metadata": {},
   "outputs": [
    {
     "name": "stdout",
     "output_type": "stream",
     "text": [
      "<class 'pandas.core.frame.DataFrame'>\n",
      "RangeIndex: 14 entries, 0 to 13\n",
      "Data columns (total 23 columns):\n",
      "Date                                                   14 non-null object\n",
      "btc_total_bitcoins                                     14 non-null float64\n",
      "btc_market_cap                                         14 non-null float64\n",
      "btc_trade_volume                                       14 non-null float64\n",
      "btc_blocks_size                                        14 non-null float64\n",
      "btc_avg_block_size                                     14 non-null float64\n",
      "btc_n_orphaned_blocks                                  14 non-null int64\n",
      "btc_n_transactions_per_block                           14 non-null float64\n",
      "btc_median_confirmation_time                           14 non-null float64\n",
      "btc_hash_rate                                          14 non-null float64\n",
      "btc_difficulty                                         14 non-null float64\n",
      "btc_miners_revenue                                     14 non-null float64\n",
      "btc_transaction_fees                                   14 non-null float64\n",
      "btc_cost_per_transaction_percent                       14 non-null float64\n",
      "btc_cost_per_transaction                               14 non-null float64\n",
      "btc_n_unique_addresses                                 14 non-null int64\n",
      "btc_n_transactions                                     14 non-null int64\n",
      "btc_n_transactions_total                               14 non-null int64\n",
      "btc_n_transactions_excluding_popular                   14 non-null int64\n",
      "btc_n_transactions_excluding_chains_longer_than_100    14 non-null int64\n",
      "btc_output_volume                                      14 non-null float64\n",
      "btc_estimated_transaction_volume                       14 non-null float64\n",
      "btc_estimated_transaction_volume_usd                   14 non-null float64\n",
      "dtypes: float64(16), int64(6), object(1)\n",
      "memory usage: 2.6+ KB\n"
     ]
    }
   ],
   "source": [
    "test.info()"
   ]
  },
  {
   "cell_type": "code",
   "execution_count": 8,
   "metadata": {},
   "outputs": [
    {
     "data": {
      "text/plain": [
       "<bound method NDFrame.describe of                 Date  btc_market_price  btc_total_bitcoins  btc_market_cap  \\\n",
       "0     2/17/2010 0:00           0.00000           2043200.0    0.000000e+00   \n",
       "1     2/18/2010 0:00           0.00000           2054650.0    0.000000e+00   \n",
       "2     2/19/2010 0:00           0.00000           2063600.0    0.000000e+00   \n",
       "3     2/20/2010 0:00           0.00000           2074700.0    0.000000e+00   \n",
       "4     2/21/2010 0:00           0.00000           2085400.0    0.000000e+00   \n",
       "5     2/22/2010 0:00           0.00000           2098150.0    0.000000e+00   \n",
       "6     2/23/2010 0:00           0.00000           2110700.0    0.000000e+00   \n",
       "7     2/24/2010 0:00           0.00000           2120200.0    0.000000e+00   \n",
       "8     2/25/2010 0:00           0.00000           2127600.0    0.000000e+00   \n",
       "9     2/26/2010 0:00           0.00000           2136100.0    0.000000e+00   \n",
       "10    2/27/2010 0:00           0.00000           2144750.0    0.000000e+00   \n",
       "11    2/28/2010 0:00           0.00000           2152850.0    0.000000e+00   \n",
       "12     3/1/2010 0:00           0.00000           2162150.0    0.000000e+00   \n",
       "13     3/2/2010 0:00           0.00000           2171950.0    0.000000e+00   \n",
       "14     3/3/2010 0:00           0.00000           2179350.0    0.000000e+00   \n",
       "15     3/4/2010 0:00           0.00000           2188450.0    0.000000e+00   \n",
       "16     3/5/2010 0:00           0.00000           2197200.0    0.000000e+00   \n",
       "17     3/6/2010 0:00           0.00000           2206350.0    0.000000e+00   \n",
       "18     3/7/2010 0:00           0.00000           2215000.0    0.000000e+00   \n",
       "19     3/8/2010 0:00           0.00000           2221800.0    0.000000e+00   \n",
       "20     3/9/2010 0:00           0.00000           2229200.0    0.000000e+00   \n",
       "21    3/10/2010 0:00           0.00000           2236650.0    0.000000e+00   \n",
       "22    3/11/2010 0:00           0.00000           2243950.0    0.000000e+00   \n",
       "23    3/12/2010 0:00           0.00000           2249850.0    0.000000e+00   \n",
       "24    3/13/2010 0:00           0.00000           2257750.0    0.000000e+00   \n",
       "25    3/14/2010 0:00           0.00000           2264000.0    0.000000e+00   \n",
       "26    3/15/2010 0:00           0.00000           2270200.0    0.000000e+00   \n",
       "27    3/16/2010 0:00           0.00000           2277000.0    0.000000e+00   \n",
       "28    3/17/2010 0:00           0.00000           2283150.0    0.000000e+00   \n",
       "29    3/18/2010 0:00           0.00000           2290950.0    0.000000e+00   \n",
       "...              ...               ...                 ...             ...   \n",
       "2876   1/2/2018 0:00       15005.85667          16778587.5    2.517770e+11   \n",
       "2877   1/3/2018 0:00       15053.26167          16780550.0    2.526020e+11   \n",
       "2878   1/4/2018 0:00       15199.35500          16782650.0    2.550850e+11   \n",
       "2879   1/5/2018 0:00       17174.12000          16784437.5    2.882580e+11   \n",
       "2880   1/6/2018 0:00       17319.19800          16786537.5    2.907290e+11   \n",
       "2881   1/7/2018 0:00       16651.47167          16788562.5    2.795540e+11   \n",
       "2882   1/8/2018 0:00       15265.90667          16790637.5    2.563240e+11   \n",
       "2883   1/9/2018 0:00       14714.25333          16792687.5    2.470920e+11   \n",
       "2884  1/10/2018 0:00       15126.39833          16794762.5    2.540440e+11   \n",
       "2885  1/11/2018 0:00       13296.79400          16797175.0    2.233490e+11   \n",
       "2886  1/12/2018 0:00       13912.88200          16799400.0    2.337280e+11   \n",
       "2887  1/13/2018 0:00       14499.77333          16801262.5    2.436140e+11   \n",
       "2888  1/14/2018 0:00       13852.92000          16803200.0    2.327730e+11   \n",
       "2889  1/15/2018 0:00       14012.19600          16805075.0    2.354760e+11   \n",
       "2890  1/16/2018 0:00       11180.99833          16807062.5    1.879200e+11   \n",
       "2891  1/17/2018 0:00       11116.94667          16809150.0    1.868660e+11   \n",
       "2892  1/18/2018 0:00       11345.42333          16811312.5    1.907310e+11   \n",
       "2893  1/19/2018 0:00       11422.44000          16813375.0    1.920500e+11   \n",
       "2894  1/20/2018 0:00       12950.79333          16815600.0    2.177750e+11   \n",
       "2895  1/21/2018 0:00       11505.22800          16817937.5    1.934940e+11   \n",
       "2896  1/22/2018 0:00       10544.59333          16820025.0    1.773600e+11   \n",
       "2897  1/23/2018 0:00       11223.06400          16822237.5    1.887970e+11   \n",
       "2898  1/24/2018 0:00       11282.25833          16824437.5    1.898180e+11   \n",
       "2899  1/25/2018 0:00       11214.44000          16826412.5    1.886990e+11   \n",
       "2900  1/26/2018 0:00       10969.81500          16828350.0    1.846040e+11   \n",
       "2901  1/27/2018 0:00       11524.77667          16830312.5    1.939660e+11   \n",
       "2902  1/28/2018 0:00       11765.71000          16832287.5    1.980440e+11   \n",
       "2903  1/29/2018 0:00       11212.65500          16834137.5    1.887550e+11   \n",
       "2904  1/30/2018 0:00       10184.06167          16836225.0    1.714610e+11   \n",
       "2905  1/31/2018 0:00       10125.01333          16837687.5    1.704820e+11   \n",
       "\n",
       "      btc_trade_volume  btc_blocks_size  btc_avg_block_size  \\\n",
       "0         0.000000e+00           0.0000            0.000235   \n",
       "1         0.000000e+00           0.0000            0.000241   \n",
       "2         0.000000e+00           0.0000            0.000228   \n",
       "3         0.000000e+00           0.0000            0.000218   \n",
       "4         0.000000e+00           0.0000            0.000234   \n",
       "5         0.000000e+00           0.0000            0.000384   \n",
       "6         0.000000e+00           0.0000            0.000216   \n",
       "7         0.000000e+00           0.0000            0.000282   \n",
       "8         0.000000e+00           0.0000            0.000227   \n",
       "9         0.000000e+00           0.0000            0.000319   \n",
       "10        0.000000e+00           0.0000            0.000223   \n",
       "11        0.000000e+00           0.0000            0.000291   \n",
       "12        0.000000e+00           0.0000            0.000228   \n",
       "13        0.000000e+00           0.0000            0.000248   \n",
       "14        0.000000e+00           0.0000            0.000220   \n",
       "15        0.000000e+00           0.0000            0.000296   \n",
       "16        0.000000e+00           0.0000            0.000466   \n",
       "17        0.000000e+00           0.0000            0.000275   \n",
       "18        0.000000e+00           0.0000            0.000295   \n",
       "19        0.000000e+00           0.0000            0.000370   \n",
       "20        0.000000e+00           0.0000            0.000277   \n",
       "21        0.000000e+00           0.0000            0.000232   \n",
       "22        0.000000e+00           0.0000            0.000288   \n",
       "23        0.000000e+00           0.0000            0.000221   \n",
       "24        0.000000e+00           0.0000            0.000244   \n",
       "25        0.000000e+00           0.0000            0.000227   \n",
       "26        0.000000e+00           0.0000            0.000224   \n",
       "27        0.000000e+00           0.0000            0.000219   \n",
       "28        0.000000e+00           0.0000            0.000259   \n",
       "29        0.000000e+00           0.0000            0.000225   \n",
       "...                ...              ...                 ...   \n",
       "2876      1.567583e+09      149454.4630            1.041368   \n",
       "2877      1.138507e+09      149621.7485            1.065513   \n",
       "2878      1.371804e+09      149800.8084            1.065833   \n",
       "2879      1.764170e+09      149953.4804            1.067636   \n",
       "2880      1.024721e+09      150130.6547            1.054609   \n",
       "2881      9.464069e+08      150300.3883            1.047738   \n",
       "2882      1.742246e+09      150474.7959            1.050648   \n",
       "2883      1.182427e+09      150647.7502            1.054599   \n",
       "2884      1.634549e+09      150823.4106            1.058195   \n",
       "2885      1.663186e+09      151027.4343            1.057117   \n",
       "2886      1.014054e+09      151215.1653            1.054669   \n",
       "2887      7.405042e+08      151366.3463            1.014638   \n",
       "2888      8.049146e+08      151529.1982            1.050658   \n",
       "2889      7.585462e+08      151688.0978            1.059330   \n",
       "2890      2.762627e+09      151855.0564            1.050054   \n",
       "2891      2.926596e+09      152032.4457            1.062211   \n",
       "2892      1.771114e+09      152214.2425            1.050849   \n",
       "2893      1.064413e+09      152387.2214            1.048357   \n",
       "2894      1.097314e+09      152584.1906            1.106569   \n",
       "2895      4.361955e+08      152785.6817            1.077493   \n",
       "2896      1.210204e+09      152966.2151            1.081038   \n",
       "2897      1.305109e+09      153155.6661            1.070345   \n",
       "2898      9.218209e+08      153343.9850            1.069994   \n",
       "2899      7.727063e+08      153519.4167            1.110327   \n",
       "2900      1.135179e+09      153681.0239            1.042627   \n",
       "2901      7.630946e+08      153844.0759            1.038548   \n",
       "2902      7.381042e+08      154006.9753            1.031009   \n",
       "2903      6.111197e+08      154157.6651            1.018174   \n",
       "2904      1.266284e+09      154322.5790            0.987509   \n",
       "2905      9.332398e+08      154444.5903            1.042831   \n",
       "\n",
       "      btc_n_orphaned_blocks  btc_n_transactions_per_block  \\\n",
       "0                         0                      1.000000   \n",
       "1                         0                      1.000000   \n",
       "2                         0                      1.000000   \n",
       "3                         0                      1.000000   \n",
       "4                         0                      1.000000   \n",
       "5                         0                      1.000000   \n",
       "6                         0                      1.000000   \n",
       "7                         0                      1.000000   \n",
       "8                         0                      1.000000   \n",
       "9                         0                      1.000000   \n",
       "10                        0                      1.000000   \n",
       "11                        0                      1.000000   \n",
       "12                        0                      1.000000   \n",
       "13                        0                      1.000000   \n",
       "14                        0                      1.000000   \n",
       "15                        0                      1.000000   \n",
       "16                        0                      1.000000   \n",
       "17                        0                      1.000000   \n",
       "18                        0                      1.000000   \n",
       "19                        0                      1.000000   \n",
       "20                        0                      1.000000   \n",
       "21                        0                      1.000000   \n",
       "22                        0                      1.000000   \n",
       "23                        0                      1.000000   \n",
       "24                        0                      1.000000   \n",
       "25                        0                      1.000000   \n",
       "26                        0                      1.000000   \n",
       "27                        0                      1.000000   \n",
       "28                        0                      1.000000   \n",
       "29                        0                      1.000000   \n",
       "...                     ...                           ...   \n",
       "2876                      0                   1994.035088   \n",
       "2877                      0                   2522.057325   \n",
       "2878                      0                   2529.809524   \n",
       "2879                      0                   2396.552448   \n",
       "2880                      0                   2135.994048   \n",
       "2881                      0                   2272.759259   \n",
       "2882                      0                   2082.361446   \n",
       "2883                      0                   2196.737805   \n",
       "2884                      0                   2092.728916   \n",
       "2885                      0                   1751.082902   \n",
       "2886                      0                   1685.904494   \n",
       "2887                      0                   1783.456376   \n",
       "2888                      0                   1516.419355   \n",
       "2889                      0                   1824.153333   \n",
       "2890                      0                   1910.220126   \n",
       "2891                      0                   1890.844311   \n",
       "2892                      0                   1788.988439   \n",
       "2893                      0                   1476.478788   \n",
       "2894                      0                   1351.747191   \n",
       "2895                      0                   1153.058824   \n",
       "2896                      0                   1470.431138   \n",
       "2897                      0                   1536.361582   \n",
       "2898                      0                   1422.857955   \n",
       "2899                      0                   1497.341772   \n",
       "2900                      0                   1422.316129   \n",
       "2901                      0                   1232.980892   \n",
       "2902                      0                   1350.924051   \n",
       "2903                      0                   1568.756757   \n",
       "2904                      0                   1416.820359   \n",
       "2905                      0                   1745.948718   \n",
       "\n",
       "      btc_median_confirmation_time                  ...                   \\\n",
       "0                         0.000000                  ...                    \n",
       "1                         0.000000                  ...                    \n",
       "2                         0.000000                  ...                    \n",
       "3                         0.000000                  ...                    \n",
       "4                         0.000000                  ...                    \n",
       "5                         0.000000                  ...                    \n",
       "6                         0.000000                  ...                    \n",
       "7                         0.000000                  ...                    \n",
       "8                         0.000000                  ...                    \n",
       "9                         0.000000                  ...                    \n",
       "10                        0.000000                  ...                    \n",
       "11                        0.000000                  ...                    \n",
       "12                        0.000000                  ...                    \n",
       "13                        0.000000                  ...                    \n",
       "14                        0.000000                  ...                    \n",
       "15                        0.000000                  ...                    \n",
       "16                        0.000000                  ...                    \n",
       "17                        0.000000                  ...                    \n",
       "18                        0.000000                  ...                    \n",
       "19                        0.000000                  ...                    \n",
       "20                        0.000000                  ...                    \n",
       "21                        0.000000                  ...                    \n",
       "22                        0.000000                  ...                    \n",
       "23                        0.000000                  ...                    \n",
       "24                        0.000000                  ...                    \n",
       "25                        0.000000                  ...                    \n",
       "26                        0.000000                  ...                    \n",
       "27                        0.000000                  ...                    \n",
       "28                        0.000000                  ...                    \n",
       "29                        0.000000                  ...                    \n",
       "...                            ...                  ...                    \n",
       "2876                      7.983333                  ...                    \n",
       "2877                      9.550000                  ...                    \n",
       "2878                     13.950000                  ...                    \n",
       "2879                      9.483333                  ...                    \n",
       "2880                      9.766667                  ...                    \n",
       "2881                     14.300000                  ...                    \n",
       "2882                     14.875000                  ...                    \n",
       "2883                     14.375000                  ...                    \n",
       "2884                     13.700000                  ...                    \n",
       "2885                     11.425000                  ...                    \n",
       "2886                      8.166667                  ...                    \n",
       "2887                      9.683333                  ...                    \n",
       "2888                      7.733333                  ...                    \n",
       "2889                      8.483333                  ...                    \n",
       "2890                     13.025000                  ...                    \n",
       "2891                     13.425000                  ...                    \n",
       "2892                      8.533333                  ...                    \n",
       "2893                     13.075000                  ...                    \n",
       "2894                      7.450000                  ...                    \n",
       "2895                     11.525000                  ...                    \n",
       "2896                     11.600000                  ...                    \n",
       "2897                      7.800000                  ...                    \n",
       "2898                     12.325000                  ...                    \n",
       "2899                     11.375000                  ...                    \n",
       "2900                     11.775000                  ...                    \n",
       "2901                     11.600000                  ...                    \n",
       "2902                     11.950000                  ...                    \n",
       "2903                     12.275000                  ...                    \n",
       "2904                     11.075000                  ...                    \n",
       "2905                     15.675000                  ...                    \n",
       "\n",
       "      btc_cost_per_transaction_percent  btc_cost_per_transaction  \\\n",
       "0                            31.781022                  0.000000   \n",
       "1                           154.463801                  0.000000   \n",
       "2                          1278.516635                  0.000000   \n",
       "3                         22186.687990                  0.000000   \n",
       "4                           689.179876                  0.000000   \n",
       "5                            65.214056                  0.000000   \n",
       "6                         25100.000000                  0.000000   \n",
       "7                           179.245283                  0.000000   \n",
       "8                          1057.142857                  0.000000   \n",
       "9                            64.582059                  0.000000   \n",
       "10                         1922.222222                  0.000000   \n",
       "11                          154.285714                  0.000000   \n",
       "12                          930.000000                  0.000000   \n",
       "13                          376.923077                  0.000000   \n",
       "14                         2960.000000                  0.000000   \n",
       "15                           88.349515                  0.000000   \n",
       "16                           45.691906                  0.000000   \n",
       "17                           38.694961                  0.000000   \n",
       "18                          114.496441                  0.000000   \n",
       "19                           75.466840                  0.000000   \n",
       "20                          185.000000                  0.000000   \n",
       "21                          551.443375                  0.000000   \n",
       "22                          167.777522                  0.000000   \n",
       "23                         2360.000000                  0.000000   \n",
       "24                          415.789474                  0.000000   \n",
       "25                          403.225806                  0.000000   \n",
       "26                        88571.428570                  0.000000   \n",
       "27                         4533.333333                  0.000000   \n",
       "28                          285.913529                  0.000000   \n",
       "29                         3250.000000                  0.000000   \n",
       "...                                ...                       ...   \n",
       "2876                          1.185870                122.635624   \n",
       "2877                          1.432448                103.108719   \n",
       "2878                          1.079246                102.933856   \n",
       "2879                          0.827695                124.724362   \n",
       "2880                          1.230609                134.871174   \n",
       "2881                          0.921737                122.611711   \n",
       "2882                          1.046518                122.310548   \n",
       "2883                          1.086841                114.458777   \n",
       "2884                          1.075518                121.715780   \n",
       "2885                          1.148395                122.358755   \n",
       "2886                          1.212459                131.790878   \n",
       "2887                          1.326114                130.462565   \n",
       "2888                          1.256204                143.148380   \n",
       "2889                          1.181556                122.141544   \n",
       "2890                          0.959737                 95.488338   \n",
       "2891                          1.094483                 97.259216   \n",
       "2892                          1.179685                103.353071   \n",
       "2893                          1.165375                119.747628   \n",
       "2894                          1.275669                142.872218   \n",
       "2895                          1.739127                143.046334   \n",
       "2896                          1.206450                103.148288   \n",
       "2897                          1.399833                103.113799   \n",
       "2898                          1.333913                111.888553   \n",
       "2899                          1.159855                104.088588   \n",
       "2900                          0.834349                106.814230   \n",
       "2901                          1.778601                126.855696   \n",
       "2902                          1.302242                117.430262   \n",
       "2903                          1.243012                 96.382352   \n",
       "2904                          1.301143                 96.749249   \n",
       "2905                          1.016284                 80.529148   \n",
       "\n",
       "      btc_n_unique_addresses  btc_n_transactions  btc_n_transactions_total  \\\n",
       "0                        241                 244                     41240   \n",
       "1                        234                 235                     41475   \n",
       "2                        185                 183                     41658   \n",
       "3                        224                 224                     41882   \n",
       "4                        218                 218                     42100   \n",
       "5                        262                 261                     42361   \n",
       "6                        252                 252                     42613   \n",
       "7                        195                 196                     42809   \n",
       "8                        150                 150                     42959   \n",
       "9                        176                 176                     43135   \n",
       "10                       176                 176                     43311   \n",
       "11                       165                 165                     43476   \n",
       "12                       187                 187                     43663   \n",
       "13                       203                 204                     43867   \n",
       "14                       150                 151                     44018   \n",
       "15                       187                 187                     44205   \n",
       "16                       178                 178                     44383   \n",
       "17                       187                 188                     44571   \n",
       "18                       177                 178                     44749   \n",
       "19                       143                 141                     44890   \n",
       "20                       149                 149                     45039   \n",
       "21                       153                 152                     45191   \n",
       "22                       155                 154                     45345   \n",
       "23                       119                 119                     45464   \n",
       "24                       160                 160                     45624   \n",
       "25                       127                 127                     45751   \n",
       "26                       131                 128                     45879   \n",
       "27                       138                 138                     46017   \n",
       "28                       127                 127                     46144   \n",
       "29                       163                 161                     46305   \n",
       "...                      ...                 ...                       ...   \n",
       "2876                  850801              340980                 288398401   \n",
       "2877                  937530              395963                 288794364   \n",
       "2878                 1054711              425008                 289219372   \n",
       "2879                  888402              342707                 289562079   \n",
       "2880                  889098              358847                 289920926   \n",
       "2881                  910004              368187                 290289113   \n",
       "2882                  895996              345672                 290634785   \n",
       "2883                  919149              360265                 290995050   \n",
       "2884                  876989              347393                 291342443   \n",
       "2885                  822010              337959                 291680402   \n",
       "2886                  747265              300091                 291980493   \n",
       "2887                  652049              265735                 292246228   \n",
       "2888                  592041              235045                 292481273   \n",
       "2889                  670839              273623                 292754896   \n",
       "2890                  737398              303725                 293058621   \n",
       "2891                  768381              315771                 293374392   \n",
       "2892                  744189              309495                 293683887   \n",
       "2893                  578406              243619                 293927506   \n",
       "2894                  559711              240611                 294168117   \n",
       "2895                  522861              215622                 294383739   \n",
       "2896                  574420              245562                 294629301   \n",
       "2897                  547568              271936                 294901237   \n",
       "2898                  576212              250423                 295151660   \n",
       "2899                  539581              236580                 295388240   \n",
       "2900                  514621              220459                 295608699   \n",
       "2901                  541699              193578                 295802277   \n",
       "2902                  492738              213446                 296015723   \n",
       "2903                  532630              232176                 296247899   \n",
       "2904                  531440              236609                 296484508   \n",
       "2905                  481100              204276                 296688784   \n",
       "\n",
       "      btc_n_transactions_excluding_popular  \\\n",
       "0                                      244   \n",
       "1                                      235   \n",
       "2                                      183   \n",
       "3                                      224   \n",
       "4                                      218   \n",
       "5                                      261   \n",
       "6                                      252   \n",
       "7                                      196   \n",
       "8                                      150   \n",
       "9                                      176   \n",
       "10                                     176   \n",
       "11                                     165   \n",
       "12                                     187   \n",
       "13                                     204   \n",
       "14                                     151   \n",
       "15                                     187   \n",
       "16                                     178   \n",
       "17                                     188   \n",
       "18                                     178   \n",
       "19                                     141   \n",
       "20                                     149   \n",
       "21                                     152   \n",
       "22                                     154   \n",
       "23                                     119   \n",
       "24                                     160   \n",
       "25                                     127   \n",
       "26                                     128   \n",
       "27                                     138   \n",
       "28                                     127   \n",
       "29                                     161   \n",
       "...                                    ...   \n",
       "2876                                324425   \n",
       "2877                                376433   \n",
       "2878                                402643   \n",
       "2879                                322200   \n",
       "2880                                342679   \n",
       "2881                                352796   \n",
       "2882                                329050   \n",
       "2883                                340700   \n",
       "2884                                330491   \n",
       "2885                                322216   \n",
       "2886                                286175   \n",
       "2887                                253379   \n",
       "2888                                224444   \n",
       "2889                                259372   \n",
       "2890                                287366   \n",
       "2891                                300012   \n",
       "2892                                293730   \n",
       "2893                                231462   \n",
       "2894                                230899   \n",
       "2895                                207718   \n",
       "2896                                235003   \n",
       "2897                                232259   \n",
       "2898                                241244   \n",
       "2899                                227471   \n",
       "2900                                214772   \n",
       "2901                                188058   \n",
       "2902                                205967   \n",
       "2903                                225983   \n",
       "2904                                230310   \n",
       "2905                                197264   \n",
       "\n",
       "      btc_n_transactions_excluding_chains_longer_than_100  btc_output_volume  \\\n",
       "0                                                   244            65173.130   \n",
       "1                                                   235            18911.740   \n",
       "2                                                   183             9749.980   \n",
       "3                                                   224            11150.030   \n",
       "4                                                   218            12266.830   \n",
       "5                                                   261            32350.000   \n",
       "6                                                   252            12600.000   \n",
       "7                                                   196            14800.000   \n",
       "8                                                   150             8100.000   \n",
       "9                                                   176            29349.000   \n",
       "10                                                  176             9101.000   \n",
       "11                                                  165            13399.000   \n",
       "12                                                  187            10300.000   \n",
       "13                                                  204            12400.000   \n",
       "14                                                  151             7650.000   \n",
       "15                                                  187            19400.000   \n",
       "16                                                  178            27900.000   \n",
       "17                                                  188            32797.390   \n",
       "18                                                  178            16250.000   \n",
       "19                                                  141            15845.180   \n",
       "20                                                  149            11400.000   \n",
       "21                                                  152             8850.000   \n",
       "22                                                  154            11749.990   \n",
       "23                                                  119             6150.000   \n",
       "24                                                  160             9800.000   \n",
       "25                                                  127             7800.000   \n",
       "26                                                  128             6302.000   \n",
       "27                                                  138             6950.000   \n",
       "28                                                  127             8301.000   \n",
       "29                                                  161             8130.000   \n",
       "...                                                 ...                  ...   \n",
       "2876                                             175840          2536938.596   \n",
       "2877                                             209685          2816884.612   \n",
       "2878                                             205100          2737825.461   \n",
       "2879                                             181631          2921230.734   \n",
       "2880                                             241394          2979615.086   \n",
       "2881                                             162523          2757179.425   \n",
       "2882                                             233898          2520926.892   \n",
       "2883                                             206394          2246011.729   \n",
       "2884                                             194819          2162979.761   \n",
       "2885                                             204041          1858450.481   \n",
       "2886                                             191086          1779515.718   \n",
       "2887                                             176924          1365097.695   \n",
       "2888                                             154354          1269172.799   \n",
       "2889                                             173183          1497810.168   \n",
       "2890                                             174727          2889286.589   \n",
       "2891                                             196755          2469526.194   \n",
       "2892                                             184028          2156724.201   \n",
       "2893                                             152039          1953499.509   \n",
       "2894                                             166380          1460377.700   \n",
       "2895                                             152188          1108525.071   \n",
       "2896                                             160630          1525531.996   \n",
       "2897                                             165118          1539514.460   \n",
       "2898                                             162151          1502763.714   \n",
       "2899                                             163043          1357490.317   \n",
       "2900                                             142735          1702177.389   \n",
       "2901                                             126082          1363301.068   \n",
       "2902                                             137919          3128906.096   \n",
       "2903                                             155772          1941048.853   \n",
       "2904                                             158259          2359671.266   \n",
       "2905                                             141543          1785708.486   \n",
       "\n",
       "      btc_estimated_transaction_volume  btc_estimated_transaction_volume_usd  \n",
       "0                           36500.0000                          0.000000e+00  \n",
       "1                            7413.0000                          0.000000e+00  \n",
       "2                             700.0000                          0.000000e+00  \n",
       "3                              50.0000                          0.000000e+00  \n",
       "4                            1553.0000                          0.000000e+00  \n",
       "5                           19551.0000                          0.000000e+00  \n",
       "6                              50.0000                          0.000000e+00  \n",
       "7                            5300.0000                          0.000000e+00  \n",
       "8                             700.0000                          0.000000e+00  \n",
       "9                           13162.0000                          0.000000e+00  \n",
       "10                            450.0000                          0.000000e+00  \n",
       "11                           5250.0000                          0.000000e+00  \n",
       "12                           1000.0000                          0.000000e+00  \n",
       "13                           2600.0000                          0.000000e+00  \n",
       "14                            250.0000                          0.000000e+00  \n",
       "15                          10300.0000                          0.000000e+00  \n",
       "16                          19150.0000                          0.000000e+00  \n",
       "17                          23646.0000                          0.000000e+00  \n",
       "18                           7555.0000                          0.000000e+00  \n",
       "19                           9011.0000                          0.000000e+00  \n",
       "20                           4000.0000                          0.000000e+00  \n",
       "21                           1351.0000                          0.000000e+00  \n",
       "22                           4351.0000                          0.000000e+00  \n",
       "23                            250.0000                          0.000000e+00  \n",
       "24                           1900.0000                          0.000000e+00  \n",
       "25                           1550.0000                          0.000000e+00  \n",
       "26                              7.0000                          0.000000e+00  \n",
       "27                            150.0000                          0.000000e+00  \n",
       "28                           2151.0000                          0.000000e+00  \n",
       "29                            240.0000                          0.000000e+00  \n",
       "...                                ...                                   ...  \n",
       "2876                       234989.0508                          3.526212e+09  \n",
       "2877                       189339.1282                          2.850171e+09  \n",
       "2878                       266691.8355                          4.053544e+09  \n",
       "2879                       300697.1506                          5.164209e+09  \n",
       "2880                       227080.9700                          3.932860e+09  \n",
       "2881                       294130.9777                          4.897714e+09  \n",
       "2882                       264641.9958                          4.040000e+09  \n",
       "2883                       257849.8220                          3.794068e+09  \n",
       "2884                       259905.1071                          3.931428e+09  \n",
       "2885                       270807.5084                          3.600872e+09  \n",
       "2886                       234452.1164                          3.261905e+09  \n",
       "2887                       180298.6834                          2.614290e+09  \n",
       "2888                       193346.2866                          2.678411e+09  \n",
       "2889                       201862.4741                          2.828537e+09  \n",
       "2890                       270270.0133                          3.021889e+09  \n",
       "2891                       252411.0863                          2.806041e+09  \n",
       "2892                       238995.6935                          2.711507e+09  \n",
       "2893                       219156.1179                          2.503298e+09  \n",
       "2894                       208079.3634                          2.694793e+09  \n",
       "2895                       154149.9356                          1.773530e+09  \n",
       "2896                       199105.8877                          2.099491e+09  \n",
       "2897                       178482.5592                          2.003121e+09  \n",
       "2898                       186181.4622                          2.100547e+09  \n",
       "2899                       189321.5447                          2.123135e+09  \n",
       "2900                       257282.1766                          2.822338e+09  \n",
       "2901                       119799.4611                          1.380662e+09  \n",
       "2902                       163590.5694                          1.924759e+09  \n",
       "2903                       160557.7065                          1.800278e+09  \n",
       "2904                       172755.8071                          1.759356e+09  \n",
       "2905                       159867.3306                          1.618659e+09  \n",
       "\n",
       "[2906 rows x 24 columns]>"
      ]
     },
     "execution_count": 8,
     "metadata": {},
     "output_type": "execute_result"
    }
   ],
   "source": [
    "data.describe"
   ]
  },
  {
   "cell_type": "code",
   "execution_count": 9,
   "metadata": {
    "scrolled": false
   },
   "outputs": [
    {
     "data": {
      "text/plain": [
       "<bound method NDFrame.describe of               Date  btc_total_bitcoins  btc_market_cap  btc_trade_volume  \\\n",
       "0    2/1/2018 0:00          16839687.5    1.529590e+11      1.509688e+09   \n",
       "1    2/2/2018 0:00          16841787.5    1.499240e+11      2.213437e+09   \n",
       "2    2/3/2018 0:00          16843762.5    1.528850e+11      9.524038e+08   \n",
       "3    2/4/2018 0:00          16845987.5    1.415170e+11      1.080683e+09   \n",
       "4    2/5/2018 0:00          16848300.0    1.152220e+11      1.793319e+09   \n",
       "5    2/6/2018 0:00          16850425.0    1.295060e+11      3.094258e+09   \n",
       "6    2/7/2018 0:00          16852187.5    1.365020e+11      1.670288e+09   \n",
       "7    2/8/2018 0:00          16853825.0    1.388850e+11      1.336662e+09   \n",
       "8    2/9/2018 0:00          16855512.5    1.438710e+11      1.093135e+09   \n",
       "9   2/10/2018 0:00          16857300.0    1.402510e+11      9.185402e+08   \n",
       "10  2/11/2018 0:00          16859187.5    1.406640e+11      7.963917e+08   \n",
       "11  2/12/2018 0:00          16861262.5    1.485700e+11      8.366237e+08   \n",
       "12  2/13/2018 0:00          16863312.5    1.449870e+11      1.884544e+08   \n",
       "13  2/14/2018 0:00          16865550.0    1.574340e+11      9.151655e+08   \n",
       "\n",
       "    btc_blocks_size  btc_avg_block_size  btc_n_orphaned_blocks  \\\n",
       "0       154613.2244            1.053963                      0   \n",
       "1       154785.0008            1.022479                      0   \n",
       "2       154942.4583            0.996567                      0   \n",
       "3       155118.7652            0.990488                      0   \n",
       "4       155322.7709            1.102733                      0   \n",
       "5       155504.2500            1.067524                      0   \n",
       "6       155655.3629            1.071722                      0   \n",
       "7       155792.6909            1.048305                      0   \n",
       "8       155937.9769            1.076193                      0   \n",
       "9       156085.9522            1.034792                      0   \n",
       "10      156237.9970            1.006919                      0   \n",
       "11      156410.8514            1.041292                      0   \n",
       "12      156580.2562            1.032956                      0   \n",
       "13      156762.0906            1.015835                      0   \n",
       "\n",
       "    btc_n_transactions_per_block  btc_median_confirmation_time  btc_hash_rate  \\\n",
       "0                    1610.400000                     12.475000    20703947.91   \n",
       "1                    1404.273810                     11.225000    21739145.31   \n",
       "2                    1233.487342                     10.475000    20445148.56   \n",
       "3                     975.769663                      9.275000    23033142.05   \n",
       "4                    1169.529730                      6.133333    23938939.78   \n",
       "5                    1436.000000                      7.433333    24293141.32   \n",
       "6                    1515.737589                      8.866667    20149017.21   \n",
       "7                    1322.816794                     13.675000    18720008.90   \n",
       "8                    1317.481481                     12.200000    19291612.22   \n",
       "9                    1271.209790                      9.450000    20434818.87   \n",
       "10                    974.887417                      7.533333    21578025.52   \n",
       "11                   1126.012048                     10.200000    23721537.99   \n",
       "12                   1115.756098                     11.050000    23435736.33   \n",
       "13                   1097.301676                     10.225000    25579248.80   \n",
       "\n",
       "                    ...                   btc_cost_per_transaction_percent  \\\n",
       "0                   ...                                           0.799509   \n",
       "1                   ...                                           0.717894   \n",
       "2                   ...                                           1.290914   \n",
       "3                   ...                                           1.208997   \n",
       "4                   ...                                           0.967008   \n",
       "5                   ...                                           0.800015   \n",
       "6                   ...                                           0.905838   \n",
       "7                   ...                                           0.805963   \n",
       "8                   ...                                           0.890279   \n",
       "9                   ...                                           1.614559   \n",
       "10                  ...                                           2.272316   \n",
       "11                  ...                                           1.184872   \n",
       "12                  ...                                           1.441899   \n",
       "13                  ...                                           1.553881   \n",
       "\n",
       "    btc_cost_per_transaction  btc_n_unique_addresses  btc_n_transactions  \\\n",
       "0                  78.049647                  591550              257664   \n",
       "1                  89.591902                  551198              235918   \n",
       "2                  98.824757                  436196              194891   \n",
       "3                 112.999677                  396694              173687   \n",
       "4                  78.586115                  486553              216363   \n",
       "5                  72.073119                  589896              244120   \n",
       "6                  71.480272                  489402              213719   \n",
       "7                  82.053232                  398607              173289   \n",
       "8                  85.223878                  462086              177860   \n",
       "9                  85.874632                  421547              181783   \n",
       "10                110.491753                  368624              147208   \n",
       "11                101.114203                  437380              186918   \n",
       "12                 99.544224                  414749              182984   \n",
       "13                109.366318                  450367              196417   \n",
       "\n",
       "    btc_n_transactions_total  btc_n_transactions_excluding_popular  \\\n",
       "0                  296946448                                249466   \n",
       "1                  297182366                                229894   \n",
       "2                  297377257                                184856   \n",
       "3                  297550944                                165753   \n",
       "4                  297767307                                208757   \n",
       "5                  298011427                                238351   \n",
       "6                  298225146                                205988   \n",
       "7                  298398435                                166517   \n",
       "8                  298576295                                173698   \n",
       "9                  298758078                                177603   \n",
       "10                 298905286                                144165   \n",
       "11                 299092204                                183345   \n",
       "12                 299275188                                179616   \n",
       "13                 299471605                                192621   \n",
       "\n",
       "    btc_n_transactions_excluding_chains_longer_than_100  btc_output_volume  \\\n",
       "0                                              179686         2.190613e+06   \n",
       "1                                              155128         1.460796e+06   \n",
       "2                                              131568         9.100425e+05   \n",
       "3                                              125143         9.722485e+05   \n",
       "4                                              144850         1.848913e+06   \n",
       "5                                              164738         1.914333e+06   \n",
       "6                                              144287         1.160112e+06   \n",
       "7                                              126556         1.171510e+06   \n",
       "8                                              131499         1.144163e+06   \n",
       "9                                              133091         1.537986e+06   \n",
       "10                                             108927         1.398605e+06   \n",
       "11                                             133062         1.674742e+06   \n",
       "12                                             128687         1.315763e+06   \n",
       "13                                             140594         1.557017e+06   \n",
       "\n",
       "    btc_estimated_transaction_volume  btc_estimated_transaction_volume_usd  \n",
       "0                       276923.32070                          2.515366e+09  \n",
       "1                       330740.21920                          2.944217e+09  \n",
       "2                       164374.02440                          1.491970e+09  \n",
       "3                       193244.21400                          1.623377e+09  \n",
       "4                       257109.29930                          1.758323e+09  \n",
       "5                       286153.34030                          2.199270e+09  \n",
       "6                       208207.33170                          1.686471e+09  \n",
       "7                       214089.82690                          1.764215e+09  \n",
       "8                       199472.83090                          1.702604e+09  \n",
       "9                       116211.04860                          9.668616e+08  \n",
       "10                       85791.95132                          7.158013e+08  \n",
       "11                      181029.65410                          1.595114e+09  \n",
       "12                      146929.34580                          1.263264e+09  \n",
       "13                      148097.50310                          1.382436e+09  \n",
       "\n",
       "[14 rows x 23 columns]>"
      ]
     },
     "execution_count": 9,
     "metadata": {},
     "output_type": "execute_result"
    }
   ],
   "source": [
    "test.describe"
   ]
  },
  {
   "cell_type": "markdown",
   "metadata": {},
   "source": [
    "# Assign the target variable, input variables\n",
    "Drop Date and Market price for input variables and use Market price for the target variable"
   ]
  },
  {
   "cell_type": "code",
   "execution_count": 51,
   "metadata": {
    "scrolled": true
   },
   "outputs": [],
   "source": [
    "X = data.drop(['Date', 'btc_market_price'], axis = 1)\n",
    "y = data['btc_market_price']"
   ]
  },
  {
   "cell_type": "code",
   "execution_count": 52,
   "metadata": {},
   "outputs": [
    {
     "data": {
      "text/plain": [
       "btc_total_bitcoins                                     float64\n",
       "btc_market_cap                                         float64\n",
       "btc_trade_volume                                       float64\n",
       "btc_blocks_size                                        float64\n",
       "btc_avg_block_size                                     float64\n",
       "btc_n_orphaned_blocks                                    int64\n",
       "btc_n_transactions_per_block                           float64\n",
       "btc_median_confirmation_time                           float64\n",
       "btc_hash_rate                                          float64\n",
       "btc_difficulty                                         float64\n",
       "btc_miners_revenue                                     float64\n",
       "btc_transaction_fees                                   float64\n",
       "btc_cost_per_transaction_percent                       float64\n",
       "btc_cost_per_transaction                               float64\n",
       "btc_n_unique_addresses                                   int64\n",
       "btc_n_transactions                                       int64\n",
       "btc_n_transactions_total                                 int64\n",
       "btc_n_transactions_excluding_popular                     int64\n",
       "btc_n_transactions_excluding_chains_longer_than_100      int64\n",
       "btc_output_volume                                      float64\n",
       "btc_estimated_transaction_volume                       float64\n",
       "btc_estimated_transaction_volume_usd                   float64\n",
       "dtype: object"
      ]
     },
     "execution_count": 52,
     "metadata": {},
     "output_type": "execute_result"
    }
   ],
   "source": [
    "X.dtypes"
   ]
  },
  {
   "cell_type": "code",
   "execution_count": 53,
   "metadata": {},
   "outputs": [
    {
     "data": {
      "text/plain": [
       "dtype('float64')"
      ]
     },
     "execution_count": 53,
     "metadata": {},
     "output_type": "execute_result"
    }
   ],
   "source": [
    "y.dtypes"
   ]
  },
  {
   "cell_type": "markdown",
   "metadata": {},
   "source": [
    "#### Confirm the trend of data putting x as time and y as price using plot"
   ]
  },
  {
   "cell_type": "code",
   "execution_count": 54,
   "metadata": {},
   "outputs": [
    {
     "data": {
      "image/png": "[encoded data removed]",
      "text/plain": [
       "<matplotlib.figure.Figure at 0x2a077414668>"
      ]
     },
     "metadata": {},
     "output_type": "display_data"
    }
   ],
   "source": [
    "import matplotlib.pyplot as plt\n",
    "plt.plot(X.index,y)\n",
    "plt.show()"
   ]
  },
  {
   "cell_type": "markdown",
   "metadata": {},
   "source": [
    "# Check Missing Data\n",
    "We found out that there are missing data in the data set"
   ]
  },
  {
   "cell_type": "code",
   "execution_count": 55,
   "metadata": {},
   "outputs": [
    {
     "data": {
      "text/plain": [
       "btc_total_bitcoins                                      True\n",
       "btc_market_cap                                         False\n",
       "btc_trade_volume                                        True\n",
       "btc_blocks_size                                         True\n",
       "btc_avg_block_size                                     False\n",
       "btc_n_orphaned_blocks                                  False\n",
       "btc_n_transactions_per_block                           False\n",
       "btc_median_confirmation_time                            True\n",
       "btc_hash_rate                                          False\n",
       "btc_difficulty                                          True\n",
       "btc_miners_revenue                                     False\n",
       "btc_transaction_fees                                    True\n",
       "btc_cost_per_transaction_percent                       False\n",
       "btc_cost_per_transaction                               False\n",
       "btc_n_unique_addresses                                 False\n",
       "btc_n_transactions                                     False\n",
       "btc_n_transactions_total                               False\n",
       "btc_n_transactions_excluding_popular                   False\n",
       "btc_n_transactions_excluding_chains_longer_than_100    False\n",
       "btc_output_volume                                      False\n",
       "btc_estimated_transaction_volume                       False\n",
       "btc_estimated_transaction_volume_usd                   False\n",
       "dtype: bool"
      ]
     },
     "execution_count": 55,
     "metadata": {},
     "output_type": "execute_result"
    }
   ],
   "source": [
    "np.isnan(X).any()"
   ]
  },
  {
   "cell_type": "code",
   "execution_count": 56,
   "metadata": {},
   "outputs": [
    {
     "data": {
      "text/plain": [
       "False"
      ]
     },
     "execution_count": 56,
     "metadata": {},
     "output_type": "execute_result"
    }
   ],
   "source": [
    "np.isnan(y).any()"
   ]
  },
  {
   "cell_type": "markdown",
   "metadata": {},
   "source": [
    "# Filling the missing data\n",
    "### Using the pad method to fill in the data\n",
    "#### It will be filling the missing data with privious row's value if privious row is not null value\n",
    "#### In this dataset, this is better way to fill the null value since if we put mean as null value, it will give us less accurate models."
   ]
  },
  {
   "cell_type": "code",
   "execution_count": 57,
   "metadata": {},
   "outputs": [],
   "source": [
    "X = X.fillna(method = 'pad')\n",
    "Y = y.fillna(method = 'pad')"
   ]
  },
  {
   "cell_type": "markdown",
   "metadata": {},
   "source": [
    "#### Check if it still have null value "
   ]
  },
  {
   "cell_type": "code",
   "execution_count": 17,
   "metadata": {},
   "outputs": [
    {
     "data": {
      "text/plain": [
       "btc_total_bitcoins                                     False\n",
       "btc_market_cap                                         False\n",
       "btc_trade_volume                                       False\n",
       "btc_blocks_size                                        False\n",
       "btc_avg_block_size                                     False\n",
       "btc_n_orphaned_blocks                                  False\n",
       "btc_n_transactions_per_block                           False\n",
       "btc_median_confirmation_time                           False\n",
       "btc_hash_rate                                          False\n",
       "btc_difficulty                                         False\n",
       "btc_miners_revenue                                     False\n",
       "btc_transaction_fees                                   False\n",
       "btc_cost_per_transaction_percent                       False\n",
       "btc_cost_per_transaction                               False\n",
       "btc_n_unique_addresses                                 False\n",
       "btc_n_transactions                                     False\n",
       "btc_n_transactions_total                               False\n",
       "btc_n_transactions_excluding_popular                   False\n",
       "btc_n_transactions_excluding_chains_longer_than_100    False\n",
       "btc_output_volume                                      False\n",
       "btc_estimated_transaction_volume                       False\n",
       "btc_estimated_transaction_volume_usd                   False\n",
       "dtype: bool"
      ]
     },
     "execution_count": 17,
     "metadata": {},
     "output_type": "execute_result"
    }
   ],
   "source": [
    "np.isnan(X).any()"
   ]
  },
  {
   "cell_type": "markdown",
   "metadata": {},
   "source": [
    "# Import package for spliting\n",
    "Split the bitcoin dataset into train and test."
   ]
  },
  {
   "cell_type": "code",
   "execution_count": 18,
   "metadata": {},
   "outputs": [],
   "source": [
    "from sklearn.model_selection import train_test_split\n",
    "\n",
    "X_train, X_test, y_train, y_test = train_test_split(X,y, random_state = 0)"
   ]
  },
  {
   "cell_type": "markdown",
   "metadata": {},
   "source": [
    "# Import package to do scaling"
   ]
  },
  {
   "cell_type": "markdown",
   "metadata": {},
   "source": [
    "#### Here we use the MinMaxscaler to do the scaling because the data can be scaled to a fixed range\n",
    "#### which will make the smaller standard deviations, so it can decrease the impact of outliers."
   ]
  },
  {
   "cell_type": "code",
   "execution_count": 19,
   "metadata": {},
   "outputs": [],
   "source": [
    "from sklearn.preprocessing import MinMaxScaler\n",
    "\n",
    "scaler = MinMaxScaler()\n",
    "X_train_a = scaler.fit_transform(X_train)\n",
    "X_test_a = scaler.transform(X_test)"
   ]
  },
  {
   "cell_type": "markdown",
   "metadata": {},
   "source": [
    "# Regression Model\n",
    "## Trying different model to find the best regression processor\n",
    "\n",
    "## K-Nearest Neighbors"
   ]
  },
  {
   "cell_type": "markdown",
   "metadata": {},
   "source": [
    "### Regression\n",
    "First we use the for loop to find the best neighbor to build the predict model.\n",
    "\n",
    "The higher neighbor will smooth the data, but eventually it will makes the model become too smooth and under-fits the data.\n",
    "So it's better to use the lower neighbor with the highest R-squared but also not too low which will make the model over-fit the data. Therefore, we choose our neighbors = 6 which has the highest R-square and close to the default neighbor 5 that won't make it become under-fitted or over-fitted model."
   ]
  },
  {
   "cell_type": "code",
   "execution_count": 20,
   "metadata": {},
   "outputs": [
    {
     "name": "stdout",
     "output_type": "stream",
     "text": [
      "R-squared test score: 0.993942 % for n_neighbors: 1\n",
      "R-squared test score: 0.993332 % for n_neighbors: 2\n",
      "R-squared test score: 0.992909 % for n_neighbors: 3\n",
      "R-squared test score: 0.992501 % for n_neighbors: 4\n",
      "R-squared test score: 0.991955 % for n_neighbors: 5\n",
      "R-squared test score: 0.992041 % for n_neighbors: 6\n",
      "R-squared test score: 0.991382 % for n_neighbors: 7\n",
      "R-squared test score: 0.992122 % for n_neighbors: 8\n",
      "R-squared test score: 0.992457 % for n_neighbors: 9\n",
      "R-squared test score: 0.992621 % for n_neighbors: 10\n",
      "R-squared test score: 0.992150 % for n_neighbors: 11\n",
      "R-squared test score: 0.991905 % for n_neighbors: 12\n",
      "R-squared test score: 0.991382 % for n_neighbors: 13\n",
      "R-squared test score: 0.991274 % for n_neighbors: 14\n",
      "R-squared test score: 0.991651 % for n_neighbors: 15\n",
      "R-squared test score: 0.990829 % for n_neighbors: 16\n",
      "R-squared test score: 0.990714 % for n_neighbors: 17\n",
      "R-squared test score: 0.990125 % for n_neighbors: 18\n",
      "R-squared test score: 0.989351 % for n_neighbors: 19\n"
     ]
    }
   ],
   "source": [
    "from sklearn.neighbors import KNeighborsRegressor\n",
    "for n_neighbors in range(1,20):\n",
    "    knnreg = KNeighborsRegressor(n_neighbors=n_neighbors).fit(X_train_a, y_train)\n",
    "    y_pred = knnreg.predict(X_train_a)\n",
    "    print ('R-squared test score: {:.6f}'.format(knnreg.score(X_test_a, y_test)),\"% for n_neighbors:\",n_neighbors)"
   ]
  },
  {
   "cell_type": "code",
   "execution_count": 21,
   "metadata": {},
   "outputs": [
    {
     "name": "stdout",
     "output_type": "stream",
     "text": [
      "[5.69947500e+00 2.44381667e+02 9.08881350e+01 4.41545000e+02\n",
      " 5.70126500e+00 1.37956432e+01 3.30316000e+00 2.62170149e+03\n",
      " 7.89224479e+02 1.12784833e+01 1.00695067e+01 2.57633167e-01\n",
      " 5.75484986e+03 5.07120000e+00 1.11733333e-01 1.12419433e+01\n",
      " 2.66983233e+01 2.70570000e+02 8.53396667e+02 1.15936667e+01\n",
      " 0.00000000e+00 8.10570783e+01 2.59678333e+02 2.67514833e-01\n",
      " 7.71840500e-01 0.00000000e+00 5.15817333e+00 2.43116667e-01\n",
      " 5.83820727e+02 6.86165000e-02 1.16199633e+01 4.83966667e+00\n",
      " 1.41100000e+01 4.29950500e+00 3.80163333e+02 1.17125446e+03\n",
      " 4.65711667e+02 3.75853333e+02 2.66830000e+02 1.16854498e+02\n",
      " 5.52875000e+02 1.24518333e+02 1.09806217e+01 5.35083333e+02\n",
      " 2.04390950e+01 6.49012815e+02 3.63413333e+02 2.44036667e+02\n",
      " 2.51215000e-01 5.33318350e+02 0.00000000e+00 4.15729585e+03\n",
      " 1.58234427e+04 3.39433017e+01 5.07316167e+00 6.00172839e+02\n",
      " 1.22148167e+01 1.63098466e+04 1.71231250e+01 1.23945632e+02\n",
      " 8.55351692e+02 2.48413926e+03 2.94283021e+03 4.71198685e+02\n",
      " 0.00000000e+00 5.41895000e+02 8.31699833e-01 1.25150000e+02\n",
      " 3.78240000e+02 2.42216667e-01 4.12195000e+02 1.28918583e+01\n",
      " 3.66688333e+02 0.00000000e+00 0.00000000e+00 1.15968050e+01\n",
      " 4.24510000e+02 2.38416667e+02 1.18420000e+02 2.45800000e+02\n",
      " 2.24258267e+01 6.46797723e+02 7.91803167e-01 2.68656100e+01\n",
      " 7.17419774e+03 8.48770127e+02 1.12823217e+01 3.24238333e+02\n",
      " 1.22358217e+01 6.08401667e+02 1.16399800e+01 2.89180500e-01\n",
      " 6.52860000e+02 2.55902625e+03 2.56571667e+02 3.30195000e+02\n",
      " 1.47868333e+02 6.21470176e+02 3.49169221e+03 1.27045972e+02\n",
      " 3.49738360e+03 0.00000000e+00 2.98930000e+02 8.44825000e+02\n",
      " 3.23783333e+00 1.18381667e+01 3.83023146e+03 1.15793217e+01\n",
      " 9.05000000e+00 6.24023333e-02 6.44680000e+00 1.29467807e+02\n",
      " 7.96066794e+02 2.39971667e+02 8.46253429e+02 8.34715000e+02\n",
      " 4.41829777e+03 7.66402044e+02 2.42510000e+02 1.01829278e+02\n",
      " 2.75116000e+00 5.70416667e+02 6.45165000e-02 1.58297517e+04\n",
      " 4.59463333e+02 1.13797500e+01 9.11314717e+01 5.62263021e+02\n",
      " 5.74164748e+02 5.67510131e+02 5.45211667e+02 3.05371667e+02\n",
      " 2.62910000e+02 5.76162833e+00 2.76120917e+01 4.85038333e+02\n",
      " 5.08635667e+00 8.79616500e+00 1.10853442e+02 6.11088667e+00\n",
      " 7.52620000e+02 2.07781467e+01 1.04305198e+03 8.19267833e+00\n",
      " 3.60988333e+02 5.10391840e+03 1.10161667e+02 1.80972733e+01\n",
      " 1.21719800e+01 2.25433167e+01 0.00000000e+00 8.09936667e+02\n",
      " 9.74339882e+02 3.74115000e+02 4.30146667e+02 4.68377169e+02\n",
      " 1.19627867e+01 1.06492006e+01 5.34858333e+02 6.28048333e-02\n",
      " 3.73874917e+01 9.01516667e-01 5.74318333e+02 2.55503250e+01\n",
      " 0.00000000e+00 4.02938333e+02 7.95504000e+00 1.86566667e-01\n",
      " 0.00000000e+00 1.50568950e+04 6.42866500e+00 6.84441500e+00\n",
      " 5.45054667e+00 1.55998247e+04 3.36254167e+00 5.25488333e+02\n",
      " 5.79986667e+02 1.03824067e+02 4.38306667e+02 3.47053333e+02\n",
      " 4.48750000e+00 9.79850891e+00 9.77601067e+01 8.45855090e+02\n",
      " 6.77319235e+02 3.16295667e+00 8.56958229e+03 5.75305500e+00\n",
      " 6.58450658e+02 1.22776359e+04 0.00000000e+00 4.00615000e-01\n",
      " 4.97938000e+00 6.26658333e-02 5.06458333e+02 2.44705784e+03\n",
      " 4.17135000e+02 9.40396667e+02 7.54689943e+03 2.73993333e+02\n",
      " 1.03989517e+00 1.44666667e-01 5.70888833e+00 8.55931579e+02\n",
      " 2.38475830e+03 4.01231667e+02 5.33848540e+02 3.62436667e+02\n",
      " 1.67722883e+01 5.42254833e+00 1.12345397e+02 7.93193333e+02\n",
      " 0.00000000e+00 8.56887083e+02 5.99264667e+00 0.00000000e+00\n",
      " 8.26816667e+00 4.11741667e+02 2.33098333e+02 1.18016117e+01\n",
      " 1.11128153e+03 1.33657283e+01 2.48778333e+02 4.69761667e+02\n",
      " 8.36912333e+00 5.39001667e+02 1.63130033e+01 1.22908582e+03\n",
      " 2.39831667e+02 8.59382117e+01 6.22000000e+02 3.98115000e-01\n",
      " 1.24958762e+04 4.00175742e+03 8.27700833e+02 9.57254333e-01\n",
      " 4.35574167e+00 7.22469667e+00 1.12076240e+03 9.08325817e+01\n",
      " 5.49686667e+02 7.30498033e+02 0.00000000e+00 4.13530000e+02\n",
      " 6.55165000e-02 1.02797702e+02 3.96485000e+02 2.45985877e+03\n",
      " 0.00000000e+00 1.17811550e+01 1.13531302e+02 7.81926169e+02\n",
      " 5.06353312e+02 5.04620000e+00 5.39309500e+00 0.00000000e+00\n",
      " 1.75507019e+04 0.00000000e+00 1.18068033e+01 9.64576667e+02\n",
      " 2.99299833e-01 2.03809733e+01 1.33749625e+03 4.26921667e+02\n",
      " 1.10221430e+01 9.71283000e+00 2.68063333e+02 2.87416500e-01\n",
      " 3.77691667e+02 6.41683333e-02 1.05541668e+02 7.41403544e+02\n",
      " 1.19325961e+03 5.03800333e+00 6.56749833e+00 2.85113333e-01\n",
      " 2.75331667e+02 2.48783333e+02 4.20960000e+02 0.00000000e+00\n",
      " 1.67150183e+01 2.86375000e+02 4.51781667e+00 4.38761663e+03\n",
      " 1.14770724e+03 5.88555000e+02 3.43625000e+02 4.56839333e+00\n",
      " 8.78550333e-01 7.89890000e+02 2.43748333e+02 4.78931058e+03\n",
      " 2.55271667e+02 6.16919375e+02 2.54640000e+02 3.47721667e+02\n",
      " 9.22506667e-01 1.25520000e+02 6.96682294e+02 1.08031263e+01\n",
      " 2.40070000e+02 1.15772833e+01 3.68215000e+02 1.36791950e+01\n",
      " 1.04233333e-01 7.09848333e+02 5.86830000e+02 4.23561667e+02\n",
      " 3.06945000e+02 1.20718350e+01 3.15388333e+02 3.19291667e+02\n",
      " 4.57721667e+02 1.20555184e+03 6.67157167e+00 0.00000000e+00\n",
      " 1.14919556e+03 4.12012733e+03 1.25336667e+02 1.44953333e+01\n",
      " 1.15639000e+01 4.13348333e+02 6.94309500e+00 3.87988932e+03\n",
      " 1.20593873e+03 2.51341667e+02 7.80610333e+00 5.79309212e+02\n",
      " 5.32214706e+02 1.54073335e+02 2.93815833e-01 4.61311412e+02\n",
      " 5.35623333e+02 4.44914303e+03 3.60175000e+02 6.00770000e+02\n",
      " 5.98293333e+02 1.74698944e+04 0.00000000e+00 3.08816167e+00\n",
      " 4.63698167e+00 1.25116617e+01 2.44715000e-01 8.50050333e-01\n",
      " 6.29181667e-02 2.36236667e+02 6.26815177e+02 4.06568333e+02\n",
      " 6.43339500e+00 4.98012833e+00 1.05683333e+01 4.14416667e+00\n",
      " 3.24335833e+00 6.77624833e+00 8.58979813e+02 6.13728333e+02\n",
      " 1.22377056e+03 7.24975000e+02 5.14771667e+02 9.12236167e-01\n",
      " 4.30745000e+02 1.41398167e+01 1.25372083e+01 1.11626302e+02\n",
      " 0.00000000e+00 0.00000000e+00 6.31889796e+02 6.35627320e+02\n",
      " 5.84030000e+00 2.91221667e+02 2.67618167e-01 5.87470000e+02\n",
      " 4.24640000e+02 1.14986473e+02 4.05301667e+02 1.00579783e+02\n",
      " 4.98830833e+00 5.63847094e+02 2.60129594e+03 4.33607640e+03\n",
      " 1.83850000e+01 2.45985877e+03 1.15811978e+03 2.41301667e+02\n",
      " 1.12801417e+01 1.19025650e+03 3.96085000e+02 2.68273333e+02\n",
      " 2.51280000e+02 0.00000000e+00 4.47371667e+02 5.92398333e+02\n",
      " 4.13265000e+02 1.05556511e+03 5.07683333e+02 1.13528485e+02\n",
      " 2.40213333e+02 4.22680000e+02 1.14974550e+01 3.41920000e+02\n",
      " 7.96087627e+02 1.18720100e+03 2.57961667e+02 5.75441667e+02\n",
      " 2.51396033e+01 3.77177167e+00 1.00823333e+01 3.67322918e+03\n",
      " 2.70416667e+02 2.65126667e+02 1.16683830e+02 1.26748333e+02\n",
      " 1.17683333e-01 1.31419083e+01 8.31955273e+02 5.41303333e+02\n",
      " 2.35883533e+01 4.39501111e+03 1.11359834e+03 1.54712111e+04\n",
      " 3.44343333e+02 0.00000000e+00 5.74535000e+02 5.06666667e+00\n",
      " 2.63650000e-01 5.20133333e+00 5.93635333e+00 1.54103133e+01\n",
      " 1.24958762e+04 7.16097081e+02 2.48105000e+02 1.24183500e+01\n",
      " 4.03941667e+02 1.70416850e+01 8.93797500e-01 6.18785617e+02\n",
      " 1.59211931e+04 6.01206042e+02 0.00000000e+00 1.38654765e+01\n",
      " 1.62883333e+01 2.01299369e+03 4.70695000e+02 5.93343333e+02\n",
      " 1.25015000e+02 1.21471983e+02 2.45066667e+02 1.42148000e+01\n",
      " 6.48740500e+00 4.92449833e+00 2.43098727e+03 1.69250000e+01\n",
      " 6.99508198e+02 8.38183333e-02 7.23181667e+00 8.05175259e+02\n",
      " 5.95597385e+02 6.56682667e+00 6.04115000e+00 4.97698333e+02\n",
      " 5.73942167e+00 5.49616033e+02 7.28736667e+00 1.65700000e+01\n",
      " 5.00703500e+00 2.49661667e+02 7.80666167e+00 2.38400000e+02\n",
      " 4.30383333e-01 9.73350000e-02 6.08182529e+02 9.42419333e-01\n",
      " 3.89278333e+02 1.20237648e+02 1.18323333e+02 2.32256767e+01\n",
      " 0.00000000e+00 5.86506667e+02 4.81699833e+00 4.28519500e+00\n",
      " 1.47988098e+01 7.67910565e+02 2.61406667e+02 2.58871667e+02\n",
      " 7.04553333e+02 4.22556667e+02 3.82160000e+02 2.52833333e+02\n",
      " 8.47561667e+02 9.77966123e+02 1.23913080e+02 0.00000000e+00\n",
      " 0.00000000e+00 1.10823572e+03 2.77015000e+02 6.63158690e+02\n",
      " 2.44618333e+02 1.00823333e+01 3.84002267e+01 8.77852896e+02\n",
      " 4.88909979e+02 1.22375033e+01 3.16816000e-01 2.56951667e+02\n",
      " 1.16620793e+02 2.46243333e+02 1.86512567e+01 2.49196667e+02\n",
      " 1.18107833e+01 2.38345000e+02 1.14849900e+03 7.96066794e+02\n",
      " 4.11575150e+03 9.72792798e+02 5.00598667e+00 1.11313996e+01\n",
      " 0.00000000e+00 0.00000000e+00 7.90118860e+03 2.34066667e+02\n",
      " 4.92549000e+00 3.74365000e+02 5.68004666e+00 2.33332833e+00\n",
      " 9.99149333e+00 2.78408793e+03 2.78451667e+02 8.65795450e+01\n",
      " 5.33703333e+00 2.47448333e-01 6.33070383e+02 9.57254333e-01\n",
      " 5.78598833e+00 1.27668212e+02 2.95476667e+02 1.37844255e+04\n",
      " 1.50350103e+04 2.48318333e+02 4.16285000e+02 0.00000000e+00\n",
      " 1.23103260e+02 6.65685000e+02 6.03047500e+00 1.04633953e+02\n",
      " 2.49017644e+03 5.83981102e+02 0.00000000e+00 3.62713333e+02\n",
      " 7.73545000e+02 4.20658333e+02 5.05552752e+03 1.50568950e+04\n",
      " 1.01812505e+02 9.74819983e+01 5.84690517e+02 6.66748000e+00\n",
      " 3.76381817e+01 6.19181667e-02 1.25605250e+01 8.82300333e-01\n",
      " 0.00000000e+00 3.42516667e+00 1.51483767e+01 2.60229833e+01\n",
      " 3.14709853e+03 4.94534500e+00 1.20548380e+02 4.14981500e+00\n",
      " 4.68971667e+02 2.54192766e+03 6.70221667e+02 1.12431183e+01\n",
      " 5.51510000e+02 2.44036667e+02 3.62875000e+02 2.42340000e+02\n",
      " 4.88137667e+00 9.98881333e+00 1.80110000e+02 9.37914224e+00\n",
      " 9.44415183e+01 1.89208333e+02 6.61830000e-02 9.20116667e+00\n",
      " 2.98563333e+02 6.17038387e+02 2.93833000e+00 7.64117481e+02\n",
      " 5.33703333e+00 7.05548910e+02 8.15699565e+02 4.55891667e+02\n",
      " 9.26533333e+00 3.32448333e+02 2.89180500e-01 5.40431667e+02\n",
      " 0.00000000e+00 8.23550000e-01 2.46049667e+03 2.45278333e+02\n",
      " 3.19816000e+00 1.06222802e+02 2.45200000e-01 4.18416667e+00\n",
      " 9.62115556e+02 2.55438333e+02 4.63152333e+00 4.64013333e+02\n",
      " 2.48079406e+03 8.94096315e+03 4.14278333e+02 4.08943333e+02\n",
      " 1.10221430e+01 8.47568333e+02 6.21105000e+02 4.19290544e+03\n",
      " 5.03762167e+00 2.35645000e+02 6.59498333e-02 3.48368333e+02\n",
      " 2.65341500e+03 1.44998000e+01 1.73053757e+03 4.89140433e+02\n",
      " 1.23083317e+01 9.83364833e-01 5.85114500e+00 4.26436667e+02\n",
      " 7.94545854e+02 6.15911039e+02 1.14559667e+01 6.65813333e+02\n",
      " 3.02836667e+02 3.20385000e+02 5.94039667e+00 8.04190667e-01\n",
      " 1.10312917e+01 0.00000000e+00 3.47583017e+01 3.00875000e+02\n",
      " 1.42602270e+03 1.01233333e-01 1.46028926e+04 5.04876107e+03\n",
      " 9.54079000e+00 2.33332833e+00 8.93380833e-01 3.98003333e+02\n",
      " 3.97572281e+03 2.54135000e+02 1.17890000e+02 1.15003300e+01\n",
      " 2.42583333e+02 9.14020167e+01 1.16425925e+02 1.30408279e+03\n",
      " 2.53661667e+02 1.69250000e+01 4.15293333e+02 2.53683333e+00\n",
      " 2.44658333e+02 5.20068967e+01 1.27511612e+03 8.00503333e+02\n",
      " 6.17923333e+02 2.64318333e+02 6.11450496e+02 1.25040718e+03\n",
      " 6.88363333e+02 3.58464667e-01 2.55876667e+02 3.22643333e+02\n",
      " 1.11663493e+04 2.36960000e+02 4.03226667e+02 3.80172536e+03\n",
      " 5.41750000e+02 8.22002133e+01 1.78824233e+01 1.49783167e+01\n",
      " 5.82266875e+02 2.37363333e+02 1.10568800e+01 5.57336333e+00\n",
      " 8.48726667e+00 6.87837739e+03 2.51215000e-01 0.00000000e+00\n",
      " 2.65043333e+02 2.29318333e+02 1.54383333e+01 8.11509435e+02\n",
      " 0.00000000e+00 8.25766333e+00 5.23271667e+02 4.56973333e+02\n",
      " 6.28548333e-02 0.00000000e+00 4.20381235e+03 8.83787500e+00\n",
      " 1.24235308e+02 5.12663333e+00 8.08411523e+03 6.47806983e+02\n",
      " 0.00000000e+00 1.10120830e+02 1.25216483e+01 6.00097127e+02\n",
      " 4.11726667e+02 4.28965082e+03 6.14127844e+02 5.96590087e+02\n",
      " 1.22900250e+01 8.92183667e-01 1.07576667e+02 4.03396667e+02\n",
      " 1.86566667e-01 3.72769534e+03 9.36292833e-01 9.40921667e+02\n",
      " 2.31293350e+03 5.78485833e+00 2.69120000e+02 6.34908667e+00\n",
      " 1.32106432e+01 9.03850000e-02 3.01150167e+00]\n",
      "R-squared test score: 0.992041\n"
     ]
    }
   ],
   "source": [
    "knnreg = KNeighborsRegressor(n_neighbors = 6).fit(X_train_a, y_train)\n",
    "\n",
    "print(knnreg.predict(X_test_a))\n",
    "print('R-squared test score: {:.6f}'\n",
    "     .format(knnreg.score(X_test_a, y_test)))"
   ]
  },
  {
   "cell_type": "code",
   "execution_count": 22,
   "metadata": {},
   "outputs": [
    {
     "name": "stdout",
     "output_type": "stream",
     "text": [
      "[0.99036273 0.99284814 0.99436894 0.99670283 0.99237379]\n"
     ]
    }
   ],
   "source": [
    "from sklearn.model_selection import cross_val_score\n",
    "\n",
    "scores = cross_val_score(knnreg, X_train_a, y_train, cv = 5)\n",
    "print(scores)"
   ]
  },
  {
   "cell_type": "markdown",
   "metadata": {},
   "source": [
    "## Linear Regression"
   ]
  },
  {
   "cell_type": "code",
   "execution_count": 23,
   "metadata": {},
   "outputs": [
    {
     "name": "stdout",
     "output_type": "stream",
     "text": [
      "0.9999576403498146\n",
      "0.9999580828591564\n"
     ]
    }
   ],
   "source": [
    "from sklearn.linear_model import LinearRegression\n",
    "\n",
    "lr = LinearRegression()\n",
    "lr.fit(X_train_a, y_train)\n",
    "y_predict = lr.predict(X_train_a)\n",
    "print(lr.score(X_train_a , y_train))\n",
    "print(lr.score(X_test_a , y_test))"
   ]
  },
  {
   "cell_type": "markdown",
   "metadata": {},
   "source": [
    "## Cross validation"
   ]
  },
  {
   "cell_type": "code",
   "execution_count": 24,
   "metadata": {},
   "outputs": [
    {
     "name": "stdout",
     "output_type": "stream",
     "text": [
      "[0.99993915 0.99995689 0.99996456 0.99996229 0.99995041]\n"
     ]
    }
   ],
   "source": [
    "from sklearn.model_selection import cross_val_score\n",
    "\n",
    "scores = cross_val_score(lr, X_train_a, y_train, cv = 5)\n",
    "print(scores)"
   ]
  },
  {
   "cell_type": "markdown",
   "metadata": {},
   "source": [
    "## Ridge\n",
    "Choose alpha as 30 by using regularization parameter"
   ]
  },
  {
   "cell_type": "code",
   "execution_count": 25,
   "metadata": {},
   "outputs": [
    {
     "name": "stdout",
     "output_type": "stream",
     "text": [
      "0.9963039457624241\n",
      "0.9962186403457763\n"
     ]
    }
   ],
   "source": [
    "from sklearn.linear_model import Ridge\n",
    "\n",
    "ridge = Ridge()\n",
    "ridge.fit(X_train_a, y_train)\n",
    "print(ridge.score(X_train_a, y_train))\n",
    "print(ridge.score(X_test_a, y_test))"
   ]
  },
  {
   "cell_type": "code",
   "execution_count": 26,
   "metadata": {},
   "outputs": [
    {
     "name": "stdout",
     "output_type": "stream",
     "text": [
      "Ridge regression: effect of alpha regularization parameter\n",
      "\n",
      "Alpha = 1.000000\n",
      "num abs(coeff) > 1.0: 22, r-squared training: 0.996304, r-squared test: 0.996219\n",
      "\n",
      "Alpha = 5.000000\n",
      "num abs(coeff) > 1.0: 22, r-squared training: 0.988796, r-squared test: 0.989106\n",
      "\n",
      "Alpha = 10.000000\n",
      "num abs(coeff) > 1.0: 22, r-squared training: 0.981744, r-squared test: 0.982237\n",
      "\n",
      "Alpha = 20.000000\n",
      "num abs(coeff) > 1.0: 22, r-squared training: 0.967460, r-squared test: 0.968119\n",
      "\n",
      "Alpha = 30.000000\n",
      "num abs(coeff) > 1.0: 21, r-squared training: 0.952152, r-squared test: 0.952961\n",
      "\n",
      "Alpha = 50.000000\n",
      "num abs(coeff) > 1.0: 21, r-squared training: 0.920167, r-squared test: 0.921282\n",
      "\n",
      "Alpha = 100.000000\n",
      "num abs(coeff) > 1.0: 22, r-squared training: 0.845188, r-squared test: 0.846833\n",
      "\n"
     ]
    }
   ],
   "source": [
    "print('Ridge regression: effect of alpha regularization parameter\\n')\n",
    "for this_alpha in [1, 5, 10, 20, 30, 50, 100]:\n",
    "    linridge = Ridge(alpha = this_alpha).fit(X_train_a, y_train)\n",
    "    r2_train = linridge.score(X_train_a, y_train)\n",
    "    r2_test = linridge.score(X_test_a, y_test)\n",
    "    num_coeff_bigger = np.sum(abs(linridge.coef_) > 1.0)\n",
    "    print('Alpha = {:.6f}\\nnum abs(coeff) > 1.0: {}, \\\n",
    "r-squared training: {:.6f}, r-squared test: {:.6f}\\n'\n",
    "         .format(this_alpha, num_coeff_bigger, r2_train, r2_test))"
   ]
  },
  {
   "cell_type": "code",
   "execution_count": 27,
   "metadata": {},
   "outputs": [
    {
     "name": "stdout",
     "output_type": "stream",
     "text": [
      "0.9521516337402228\n",
      "0.9529612051804317\n"
     ]
    }
   ],
   "source": [
    "ridge_reg = Ridge(alpha=30).fit(X_train_a, y_train)\n",
    "print(ridge_reg.score(X_train_a, y_train))\n",
    "print(ridge_reg.score(X_test_a, y_test))"
   ]
  },
  {
   "cell_type": "markdown",
   "metadata": {},
   "source": [
    "## Lasso\n",
    "By running for loop, we chose that 0.5 as the alpha since the difference R-squre between training and test is small."
   ]
  },
  {
   "cell_type": "code",
   "execution_count": 28,
   "metadata": {},
   "outputs": [
    {
     "name": "stdout",
     "output_type": "stream",
     "text": [
      "Lasso regression: effect of alpha regularization\n",
      "parameter on number of features kept in final model\n",
      "\n",
      "Alpha = 0.010000\n",
      "Features kept: 21, r-squared training: 0.999932, r-squared test: 0.999929\n",
      "\n",
      "Alpha = 0.500000\n",
      "Features kept: 8, r-squared training: 0.999911, r-squared test: 0.999911\n",
      "\n",
      "Alpha = 1.000000\n",
      "Features kept: 8, r-squared training: 0.999888, r-squared test: 0.999890\n",
      "\n",
      "Alpha = 2.000000\n",
      "Features kept: 4, r-squared training: 0.999826, r-squared test: 0.999820\n",
      "\n",
      "Alpha = 3.000000\n",
      "Features kept: 4, r-squared training: 0.999746, r-squared test: 0.999732\n",
      "\n",
      "Alpha = 5.000000\n",
      "Features kept: 4, r-squared training: 0.999482, r-squared test: 0.999454\n",
      "\n",
      "Alpha = 10.000000\n",
      "Features kept: 4, r-squared training: 0.998241, r-squared test: 0.998179\n",
      "\n",
      "Alpha = 20.000000\n",
      "Features kept: 3, r-squared training: 0.993254, r-squared test: 0.993127\n",
      "\n",
      "Alpha = 50.000000\n",
      "Features kept: 2, r-squared training: 0.958686, r-squared test: 0.958244\n",
      "\n",
      "Alpha = 100.000000\n",
      "Features kept: 2, r-squared training: 0.836098, r-squared test: 0.833871\n",
      "\n"
     ]
    }
   ],
   "source": [
    "from sklearn.linear_model import Lasso\n",
    "\n",
    "print('Lasso regression: effect of alpha regularization\\n\\\n",
    "parameter on number of features kept in final model\\n')\n",
    "\n",
    "for alpha in [0.01, 0.5, 1, 2, 3, 5, 10, 20, 50, 100]:\n",
    "    linlasso = Lasso(alpha, max_iter = 10000).fit(X_train_a, y_train)\n",
    "    r2_train = linlasso.score(X_train_a, y_train)\n",
    "    r2_test = linlasso.score(X_test_a, y_test)\n",
    "    \n",
    "    print('Alpha = {:.6f}\\nFeatures kept: {}, r-squared training: {:.6f}, \\\n",
    "r-squared test: {:.6f}\\n'\n",
    "         .format(alpha, np.sum(linlasso.coef_ != 0), r2_train, r2_test))\n",
    "    "
   ]
  },
  {
   "cell_type": "code",
   "execution_count": 29,
   "metadata": {},
   "outputs": [
    {
     "data": {
      "text/plain": [
       "GridSearchCV(cv=5, error_score='raise',\n",
       "       estimator=Lasso(alpha=1.0, copy_X=True, fit_intercept=True, max_iter=1000,\n",
       "   normalize=False, positive=False, precompute=False, random_state=None,\n",
       "   selection='cyclic', tol=0.0001, warm_start=False),\n",
       "       fit_params=None, iid=True, n_jobs=1,\n",
       "       param_grid={'alpha': [0.01, 1, 5, 10, 100]},\n",
       "       pre_dispatch='2*n_jobs', refit=True, return_train_score='warn',\n",
       "       scoring=None, verbose=0)"
      ]
     },
     "execution_count": 29,
     "metadata": {},
     "output_type": "execute_result"
    }
   ],
   "source": [
    "from sklearn.model_selection import GridSearchCV\n",
    "\n",
    "lasso = Lasso()\n",
    "param_grid = {'alpha':[0.01, 1, 5, 10, 100]}\n",
    "\n",
    "grid_search = GridSearchCV(lasso, param_grid, cv = 5)\n",
    "grid_search.fit(X_train_a, y_train)"
   ]
  },
  {
   "cell_type": "code",
   "execution_count": 30,
   "metadata": {},
   "outputs": [
    {
     "name": "stdout",
     "output_type": "stream",
     "text": [
      "Best parameters{'alpha': 0.01}\n"
     ]
    }
   ],
   "source": [
    "print('Best parameters{}'.format(grid_search.best_params_))"
   ]
  },
  {
   "cell_type": "code",
   "execution_count": 31,
   "metadata": {},
   "outputs": [
    {
     "name": "stdout",
     "output_type": "stream",
     "text": [
      "Best score 0.999927\n"
     ]
    }
   ],
   "source": [
    "print('Best score {:.6f}'.format(grid_search.best_score_))"
   ]
  },
  {
   "cell_type": "code",
   "execution_count": 32,
   "metadata": {},
   "outputs": [
    {
     "name": "stdout",
     "output_type": "stream",
     "text": [
      "0.9999322509964268\n",
      "0.999929440104835\n"
     ]
    }
   ],
   "source": [
    "lasso_reg = Lasso(alpha=0.01).fit(X_train_a, y_train)\n",
    "print(lasso_reg.score(X_train_a, y_train))\n",
    "print(lasso_reg.score(X_test_a, y_test))"
   ]
  },
  {
   "cell_type": "markdown",
   "metadata": {},
   "source": [
    "## Polynomial "
   ]
  },
  {
   "cell_type": "code",
   "execution_count": 33,
   "metadata": {
    "scrolled": false
   },
   "outputs": [
    {
     "name": "stdout",
     "output_type": "stream",
     "text": [
      "linear model coeff (w): [-6.42872979e+01  1.87967419e+04  1.14877998e+01 -3.16302878e+03\n",
      "  2.21263564e+01 -5.62184215e+00 -4.44771107e+01  2.76629177e+01\n",
      " -5.01999852e+02  2.14801040e+02  3.04210405e+02 -2.63274734e+02\n",
      "  2.36076507e+00  4.34659839e+02  1.49053728e+02  4.87481871e+01\n",
      "  3.28921011e+03 -2.98098748e+01  2.57993832e+01  4.96813914e+00\n",
      "  1.89284897e+00  1.30904783e+02]\n",
      "linear model intercept (b): -0.718417\n",
      "R-squared score (training): 0.999958\n",
      "R-squared score (test): 0.999958\n",
      "\n",
      "Now we transform the original input data to add\n",
      "polynomial features up to degree 2 (quadratic)\n",
      "\n",
      "(poly deg 2) linear model coeff (w):\n",
      "[-2.16308507e-03  6.22741152e+00  4.50486546e+04 -1.98481155e+03\n",
      "  1.94673832e+03  7.17429293e+01  1.47596695e+02 -9.95077052e+01\n",
      "  1.78837300e+01 -1.57233992e+03 -5.07501704e+03 -1.32326280e+03\n",
      "  1.83277625e+02  8.08244556e+00 -9.98066587e+02 -2.46793303e+02\n",
      "  1.90244176e+02 -2.89638638e+03 -6.24676551e+01  1.64341123e+02\n",
      "  6.40767611e+01 -3.35769930e+01  6.03686135e+05 -1.27112963e+01\n",
      " -2.98658592e+04  2.64601014e+03 -5.86768067e+03 -2.21496794e+00\n",
      " -2.04050191e+02  8.62452390e+01 -5.80330022e+01  1.06948864e+03\n",
      "  7.18134088e+03  3.19061414e+03 -4.00085126e+02 -6.74657667e+02\n",
      "  5.85160874e+01  6.59166027e+02 -5.08996870e+02  7.12766984e+03\n",
      "  3.39178339e+01 -1.30787214e+02 -1.17963588e+02  9.81410889e+01\n",
      "  1.42451119e+06 -4.29634980e+03  1.79309305e+03 -6.34301972e+04\n",
      " -3.68843685e+02  2.65654525e+02  1.16267979e+03 -1.37992126e+03\n",
      " -3.19738723e+03 -8.13760184e+02  8.89796423e+03 -4.49641539e+01\n",
      " -2.37544627e+06 -8.36006060e+01  4.86386017e+01  1.44112796e+03\n",
      "  7.24617632e+04  3.40380395e+03 -4.86480648e+03 -3.71784577e+03\n",
      " -3.27040894e+07 -2.21865370e+03 -1.57454231e+00 -6.40193272e+03\n",
      "  8.37720448e+01 -6.59932021e+02 -7.00784566e+02  5.40179137e+02\n",
      " -1.69501110e+02 -1.72364023e+02 -7.38888342e+02  2.79594237e+01\n",
      "  7.21154496e+06 -4.69748282e+02 -2.12366574e+03  4.40371020e+02\n",
      "  5.87458550e+03  1.86189074e+03 -7.68212323e+02  3.85384523e+02\n",
      "  2.98029184e+03  2.77030246e+02 -4.18837755e+04  9.62151091e+02\n",
      "  8.59013907e+02 -4.42337285e+02 -8.32998856e+02 -2.70401129e+04\n",
      "  2.17475425e+04  9.00017479e+04 -6.00570552e+03 -1.12890840e+06\n",
      " -3.56407193e+03  3.98396039e+03 -1.98446034e+03  8.77621696e+04\n",
      "  3.82031226e+03 -2.57426208e+03 -1.89614287e+03  1.94080885e+03\n",
      " -1.07888506e+04  2.96973697e+01 -1.38242323e+01 -1.75357620e+02\n",
      " -4.00001859e+01 -6.98879359e+01  6.38137982e+01 -2.84350926e+02\n",
      " -2.69453485e+02 -5.42833833e+05  1.38343581e+02 -7.46887084e+01\n",
      "  9.49975853e+01 -9.83625850e+02 -2.01118437e+02  2.06292123e+02\n",
      "  1.25964936e+02 -5.21136790e+02  5.88380617e+02 -4.68840790e-01\n",
      "  5.12791809e+00  8.60640973e+01  7.37701379e+02 -6.16659057e+02\n",
      "  3.34615536e+02 -1.59595020e+02  7.32508162e+04 -1.12206863e+02\n",
      "  1.49486598e+01 -1.51962924e+01 -7.73716016e+02 -8.25992175e+01\n",
      "  1.72667876e+01  8.65557111e+01  1.75482701e+02 -8.90977015e+01\n",
      "  1.74486751e+01  1.33543739e+02 -1.24387781e+03  9.91553424e+02\n",
      " -5.01698679e+02 -3.03541636e+02  1.01865421e+05  5.10200154e+01\n",
      "  1.50345299e+02  1.32410844e+02  2.90365685e+02 -8.88784128e+01\n",
      "  2.38635566e+02 -3.85404905e+01  4.71099095e+02 -1.30359637e+03\n",
      "  1.26239525e+01 -2.44083966e+02  3.10072772e+02  1.86999980e+03\n",
      "  7.38650288e-01  4.43957892e+04 -1.26363352e+02 -4.60788279e+02\n",
      " -1.10031045e+01  1.02000867e+03  1.96967987e+02 -7.88504431e+01\n",
      " -2.15886090e+01  9.31843723e+00 -3.44932552e+02 -3.64024458e+03\n",
      "  4.57498021e+03  7.67182466e+03 -1.72299740e+03 -3.53237498e+06\n",
      " -6.04607386e+02  4.68626154e+01  3.28835919e+03  2.97125381e+04\n",
      " -2.05333632e+03  1.08825722e+02 -3.32142627e+02 -3.87398911e+03\n",
      " -3.02172391e+03 -5.37206460e+02 -3.22341523e+03  1.30758923e+03\n",
      "  9.82233621e+06  6.72358072e+02  5.24267644e+02 -4.90887267e+03\n",
      " -2.60921688e+04  7.45224570e+02  2.02106655e+03  2.00327752e+03\n",
      "  5.75513295e+03  2.20082637e+03 -6.19505310e+03  3.12323296e+03\n",
      "  1.67499289e+06  9.38572428e+02 -1.81119020e+03 -2.93406353e+03\n",
      " -9.69728308e+04 -8.03774196e+02  4.43001803e+03  3.40327189e+03\n",
      " -6.67667037e+02  2.52233334e+03 -2.27993336e+02  2.17925344e+05\n",
      " -1.31956540e+03  5.78987554e+02 -4.31860582e+01  6.81957721e+03\n",
      "  5.66235868e+02 -6.24128556e+02  5.25556910e+01  1.87990690e+03\n",
      " -1.37804254e+03 -1.07982552e+01 -1.82911518e+04  4.41178703e+05\n",
      "  1.48436889e+05  7.75983758e+05 -5.66496507e+04 -1.93644974e+05\n",
      " -4.12635063e+03 -4.05866636e+05  2.62158455e+11 -9.06040342e+01\n",
      "  2.55386420e+02 -3.77711588e+06  2.65594175e+03  1.53582337e+02\n",
      " -7.73227370e+02 -4.47215801e+02 -1.06605835e+02  6.45070422e+02\n",
      " -2.92360122e+02 -8.28353081e+02 -4.59475932e+03  3.64036867e+02\n",
      "  4.57031616e+02  4.13258139e+02  1.14718964e+03  2.29772877e+03\n",
      "  6.26147825e+02  2.87571531e+03  3.21314642e+02 -1.23491583e+03\n",
      " -1.01489104e+02 -9.81354475e+02  2.25339346e+03 -4.62594900e+04\n",
      " -3.94910773e+03  2.23475567e+03  1.66758021e+03 -1.42651145e+03\n",
      "  1.26114338e+04 -1.27783665e+01 -5.68780596e+01 -2.12715203e+02\n",
      "  4.74635226e+02 -2.31590614e+03  3.22111386e+02 -1.57399291e+01\n",
      " -7.78905778e+02 -9.45873392e+01 -1.63814327e+00 -5.22583429e+01\n",
      " -9.57763717e+02  1.71674348e+01 -6.93187370e+02 -6.28262094e+02]\n",
      "(poly deg 2) linear model intercept (b): 0.510781\n",
      "(poly deg 2) R-squared score (training): 0.999998\n",
      "(poly deg 2) R-squared score (test): 0.999986\n",
      "\n",
      "\n",
      "Addition of many polynomial features often leads to\n",
      "overfitting, so we often use polynomial features in combination\n",
      "with regression that has a regularization penalty, like ridge\n",
      "regression.\n",
      "\n",
      "(poly deg 2 + ridge) linear model coeff (w):\n",
      "[ 0.00000000e+00 -7.46224351e+01  1.08371490e+03  6.56429969e+01\n",
      " -8.35084965e+01  2.31686407e+02  3.81956328e+01 -4.02873385e+01\n",
      "  2.04367032e+01 -1.00470155e+02  2.80677545e+02  5.82363618e+02\n",
      " -6.80519047e+01  7.83670850e+00  6.31017636e+02  7.10332695e+01\n",
      "  8.17645620e+01 -4.22405943e+01  6.47000154e+01  4.22629117e+01\n",
      " -2.35118060e+01 -1.74380142e+01  2.50771149e+02  8.72028493e+01\n",
      "  1.04282086e+03  5.12207882e+01 -9.65410265e+01  3.72296536e+01\n",
      "  9.15490896e+00 -6.55932344e+01  7.57976744e+01 -8.56057343e+01\n",
      "  2.92291366e+02  5.32709327e+02 -6.44724072e+01 -4.89967678e-02\n",
      "  6.96344103e+02 -7.69628265e-01 -3.71111914e+01 -6.54012794e+01\n",
      " -4.49928306e+01 -2.37886995e+01 -3.47663421e+00 -7.96544990e+01\n",
      "  2.16596818e+02  4.70346966e+02  7.38884865e+01  8.99718038e+02\n",
      "  9.22538713e+02  8.48258704e-01  8.32030971e+02  2.68121749e+02\n",
      "  1.65349071e+02  3.54137260e+02  1.89334652e+02 -5.99496616e+01\n",
      "  1.12328078e-02  2.44510621e+02  5.63727408e+02  6.66604316e+02\n",
      "  8.99395184e+02  6.75145011e+02  7.80890177e+02  8.23726609e+01\n",
      "  1.09725469e+01  1.73453208e+02  1.74030544e+01  2.00443637e+01\n",
      "  2.67037254e+01  7.24387498e-01  5.28071166e+01 -1.07311590e+01\n",
      " -7.19464492e+01 -2.57907897e+01 -5.83942882e+00 -8.68055160e+01\n",
      "  1.90994603e-03  5.96884986e+00 -1.37731687e+01  5.83574018e+00\n",
      "  2.01487763e+01  3.03543301e+00  2.71519964e+01  8.96980421e+00\n",
      " -9.97179745e+00 -8.40552175e+00  2.17214637e+02  5.25538840e+00\n",
      " -3.73561999e+01  1.93863567e+02  4.29640493e+00  1.37719585e+00\n",
      "  3.61393663e+02  4.05808588e+02 -7.25276953e+01 -3.80422695e-03\n",
      "  4.90783655e+02  5.14068234e+01 -3.51866313e+01  2.18199747e+02\n",
      " -3.51423106e+01  7.89211245e+01 -2.83906264e+01 -1.31992059e+02\n",
      "  1.50425909e+02 -1.25217614e+02  1.07452070e+01  1.43527598e+01\n",
      "  3.06533511e+01 -5.96357562e+01  2.91740622e+02  4.34458868e+02\n",
      " -9.05843178e+01 -2.73304177e-03  6.08237151e+02 -2.02511945e+01\n",
      " -1.04396813e+02  1.71412954e+01 -1.02684094e+02 -3.26823351e+01\n",
      " -9.45781321e+00 -1.24677573e+02  1.67011392e+02 -2.21455547e+01\n",
      " -2.82949357e+01  2.01293449e+01 -1.44381403e+01 -1.35938743e+01\n",
      " -3.64663802e+00 -5.42968487e+00 -8.59257899e-03 -1.62513207e+01\n",
      " -1.49250622e+01  9.03758693e+00 -3.56431170e+01  1.73315175e+01\n",
      " -4.07856512e+00  7.28200518e+00  2.49808180e+00  1.10630230e+00\n",
      "  3.92613569e+01 -7.10496864e+00  1.74395055e+02  4.29209072e+02\n",
      "  4.21995252e+02 -7.13415132e+01 -1.70506989e-02  5.54510618e+02\n",
      "  9.72818313e+00 -6.56599035e+01  1.99356295e+02 -6.32281420e+01\n",
      "  2.33360309e+01 -1.03091771e+01 -9.94753764e+01  2.18998861e+02\n",
      " -4.88782369e+01 -1.22730286e+01  9.72436161e+01  1.36047874e+02\n",
      " -1.97341344e+01 -3.15792253e-02  2.50643116e+02 -1.46659397e+01\n",
      " -4.36084798e+01  1.20200547e+01 -4.14728484e+01 -3.73087085e+01\n",
      " -3.99515627e+00 -2.24303922e+01  3.25692785e+01 -3.44478754e+02\n",
      " -1.26543911e+02 -8.12092799e+01 -1.87964137e+02  1.55022938e-03\n",
      " -1.29339305e+02 -1.33728346e+01  4.36483082e-01 -1.50412415e+00\n",
      " -8.98058215e+00  8.04251831e+01  7.31546573e+00 -5.45293736e+01\n",
      " -1.32972745e+02  1.33000823e+02  5.68311457e+01 -1.19377187e+02\n",
      "  6.29084432e-03  6.89526073e+01  1.80394535e+02  1.97170213e+02\n",
      "  3.58763429e+02  1.94279013e+02  2.95925495e+02  2.75997728e+01\n",
      " -4.66406442e+01 -1.88950366e+01 -1.97841142e+01 -1.55305656e+02\n",
      "  1.73706763e-03  8.19612053e+00  2.39245498e+02  3.24958626e+02\n",
      "  4.06593251e+02  3.24784686e+02  4.20157246e+02  5.03672787e+01\n",
      " -4.39795333e-01 -1.43225515e+01 -1.11473885e+02 -3.44287544e-03\n",
      " -1.03687693e+02 -1.45510918e+02 -1.30965939e+02 -7.33431021e+01\n",
      " -1.38196523e+02 -7.33763337e+01 -1.08656346e+01 -2.27250626e+01\n",
      " -1.69190608e+02  2.31344194e+00 -6.48329676e-02 -9.92582139e-03\n",
      " -5.72026322e-03 -4.58497231e-03 -5.08631061e-03 -6.27476175e-03\n",
      " -9.43601833e-03 -3.95911686e-03  6.06423316e-03 -4.04793212e+01\n",
      "  3.41497547e+02  4.47317435e+02  4.95797533e+02  4.47622496e+02\n",
      "  5.28994032e+02  7.10819167e+01  1.46658523e+01  2.34558087e+01\n",
      " -1.97050443e+01 -4.52126348e+01  5.65216583e+01 -5.04005960e+01\n",
      "  1.85883797e+01  3.22981495e+00 -7.26813420e+01  6.90571897e+01\n",
      " -9.10191375e+01 -2.81574438e+01 -9.87181016e+01 -4.27516848e+01\n",
      " -3.08546446e+00 -8.33710238e+01  1.18989633e+02  2.19799994e+02\n",
      " -2.95709527e+01  8.46019406e+01 -2.72917086e+01 -1.29668626e+02\n",
      "  1.50334738e+02 -8.97872787e+01 -4.46272234e+01 -4.92528813e+00\n",
      " -8.76729243e+01  1.13806689e+02  1.45479154e+01 -1.21724759e+01\n",
      " -9.16580859e+01  1.85650975e+02  2.06969651e+01  3.29861898e+00\n",
      "  1.81530771e+01  5.02936923e+01 -2.68823833e+01 -6.06324468e+01]\n",
      "(poly deg 2 + ridge) linear model intercept (b): -10.164378\n",
      "(poly deg 2 + ridge) R-squared score (training): 0.999112\n",
      "(poly deg 2 + ridge) R-squared score (test): 0.997568\n"
     ]
    }
   ],
   "source": [
    "from sklearn.linear_model import LinearRegression\n",
    "from sklearn.preprocessing import PolynomialFeatures\n",
    "\n",
    "linreg = LinearRegression().fit(X_train_a, y_train)\n",
    "\n",
    "print('linear model coeff (w): {}'\n",
    "     .format(linreg.coef_))\n",
    "print('linear model intercept (b): {:.6f}'\n",
    "     .format(linreg.intercept_))\n",
    "print('R-squared score (training): {:.6f}'\n",
    "     .format(linreg.score(X_train_a, y_train)))\n",
    "print('R-squared score (test): {:.6f}'\n",
    "     .format(linreg.score(X_test_a, y_test)))\n",
    "\n",
    "print('\\nNow we transform the original input data to add\\n\\\n",
    "polynomial features up to degree 2 (quadratic)\\n')\n",
    "poly = PolynomialFeatures(degree=2)\n",
    "X_F1_poly = poly.fit_transform(X_train_a)\n",
    "\n",
    "X_train_c, X_test_c, y_train_c, y_test_c = train_test_split(X_F1_poly, y_train,\n",
    "                                                   random_state = 0)\n",
    "linreg2 = LinearRegression().fit(X_train_c, y_train_c)\n",
    "\n",
    "print('(poly deg 2) linear model coeff (w):\\n{}'\n",
    "     .format(linreg2.coef_))\n",
    "print('(poly deg 2) linear model intercept (b): {:.6f}'\n",
    "     .format(linreg2.intercept_))\n",
    "print('(poly deg 2) R-squared score (training): {:.6f}'\n",
    "     .format(linreg2.score(X_train_c, y_train_c)))\n",
    "print('(poly deg 2) R-squared score (test): {:.6f}\\n'\n",
    "     .format(linreg2.score(X_test_c, y_test_c)))\n",
    "\n",
    "print('\\nAddition of many polynomial features often leads to\\n\\\n",
    "overfitting, so we often use polynomial features in combination\\n\\\n",
    "with regression that has a regularization penalty, like ridge\\n\\\n",
    "regression.\\n')\n",
    "\n",
    "linreg3 = Ridge().fit(X_train_c, y_train_c)\n",
    "\n",
    "print('(poly deg 2 + ridge) linear model coeff (w):\\n{}'\n",
    "     .format(linreg3.coef_))\n",
    "print('(poly deg 2 + ridge) linear model intercept (b): {:.6f}'\n",
    "     .format(linreg3.intercept_))\n",
    "print('(poly deg 2 + ridge) R-squared score (training): {:.6f}'\n",
    "     .format(linreg3.score(X_train_c, y_train_c)))\n",
    "print('(poly deg 2 + ridge) R-squared score (test): {:.6f}'\n",
    "     .format(linreg3.score(X_test_c, y_test_c)))"
   ]
  },
  {
   "cell_type": "markdown",
   "metadata": {},
   "source": [
    "## Support Vector Machines\n",
    "For choosing the C and epsilon, we used GridSearchCV.\n",
    "Best C is 10 and best epsilon is 0.1"
   ]
  },
  {
   "cell_type": "code",
   "execution_count": 34,
   "metadata": {},
   "outputs": [
    {
     "data": {
      "text/plain": [
       "GridSearchCV(cv=5, error_score='raise',\n",
       "       estimator=SVR(C=1.0, cache_size=200, coef0=0.0, degree=3, epsilon=0.1, gamma='auto',\n",
       "  kernel='linear', max_iter=-1, shrinking=True, tol=0.001, verbose=False),\n",
       "       fit_params=None, iid=True, n_jobs=1,\n",
       "       param_grid={'C': [0.01, 0.1, 0.5, 1, 5, 10], 'epsilon': [0.01, 0.1, 0.5, 1, 5, 10]},\n",
       "       pre_dispatch='2*n_jobs', refit=True, return_train_score='warn',\n",
       "       scoring=None, verbose=0)"
      ]
     },
     "execution_count": 34,
     "metadata": {},
     "output_type": "execute_result"
    }
   ],
   "source": [
    "from sklearn.model_selection import GridSearchCV\n",
    "from sklearn.svm import SVR\n",
    "\n",
    "svr = SVR(kernel = 'linear')\n",
    "param_grid = {'C':[0.01, 0.1, 0.5, 1, 5, 10], \n",
    "              'epsilon': [0.01, 0.1, 0.5, 1, 5, 10]}\n",
    "\n",
    "grid_search = GridSearchCV(svr, param_grid, cv = 5)\n",
    "grid_search.fit(X_train_a, y_train)\n"
   ]
  },
  {
   "cell_type": "code",
   "execution_count": 35,
   "metadata": {},
   "outputs": [
    {
     "name": "stdout",
     "output_type": "stream",
     "text": [
      "Best parameters{'C': 10, 'epsilon': 0.1}\n",
      "Best score 0.420828\n"
     ]
    }
   ],
   "source": [
    "print('Best parameters{}'.format(grid_search.best_params_))\n",
    "print('Best score {:.6f}'.format(grid_search.best_score_))"
   ]
  },
  {
   "cell_type": "code",
   "execution_count": 36,
   "metadata": {},
   "outputs": [
    {
     "data": {
      "text/plain": [
       "0.4733288118855328"
      ]
     },
     "execution_count": 36,
     "metadata": {},
     "output_type": "execute_result"
    }
   ],
   "source": [
    "svr = SVR(kernel = 'linear', C = 10, epsilon = 0.1)\n",
    "svr.fit(X_train_a, y_train)\n",
    "svr.score(X_test_a, y_test)"
   ]
  },
  {
   "cell_type": "markdown",
   "metadata": {},
   "source": [
    "## Kerneled SVM\n",
    "By using GridSearch, we chose C as 100 and gamma as 0.5 for RBF.\n",
    "Also, we chose C as 100 and degree as 2 for POLY.\n",
    "\n"
   ]
  },
  {
   "cell_type": "code",
   "execution_count": 37,
   "metadata": {},
   "outputs": [
    {
     "data": {
      "text/plain": [
       "GridSearchCV(cv=5, error_score='raise',\n",
       "       estimator=SVR(C=1.0, cache_size=200, coef0=0.0, degree=3, epsilon=0.1, gamma='auto',\n",
       "  kernel='rbf', max_iter=-1, shrinking=True, tol=0.001, verbose=False),\n",
       "       fit_params=None, iid=True, n_jobs=1,\n",
       "       param_grid={'gamma': [0.01, 0.1, 0.5, 1, 5, 10], 'C': [0.1, 1, 5, 10, 30, 50, 100]},\n",
       "       pre_dispatch='2*n_jobs', refit=True, return_train_score='warn',\n",
       "       scoring=None, verbose=0)"
      ]
     },
     "execution_count": 37,
     "metadata": {},
     "output_type": "execute_result"
    }
   ],
   "source": [
    "from sklearn.model_selection import GridSearchCV\n",
    "from sklearn.svm import SVR\n",
    "\n",
    "svr = SVR(kernel = 'rbf')\n",
    "param_grid = {'C':[0.1, 1, 5, 10, 30, 50, 100], \n",
    "              'gamma': [0.01, 0.1, 0.5, 1, 5, 10]}\n",
    "\n",
    "grid_search = GridSearchCV(svr, param_grid, cv = 5)\n",
    "grid_search.fit(X_train_a, y_train)\n"
   ]
  },
  {
   "cell_type": "code",
   "execution_count": 38,
   "metadata": {},
   "outputs": [
    {
     "name": "stdout",
     "output_type": "stream",
     "text": [
      "Best parameters{'gamma': 0.5, 'C': 100}\n",
      "Best score 0.719640\n"
     ]
    }
   ],
   "source": [
    "print('Best parameters{}'.format(grid_search.best_params_))\n",
    "print('Best score {:.6f}'.format(grid_search.best_score_))"
   ]
  },
  {
   "cell_type": "code",
   "execution_count": 39,
   "metadata": {},
   "outputs": [
    {
     "data": {
      "text/plain": [
       "GridSearchCV(cv=5, error_score='raise',\n",
       "       estimator=SVR(C=1.0, cache_size=200, coef0=0.0, degree=3, epsilon=0.1, gamma='auto',\n",
       "  kernel='rbf', max_iter=-1, shrinking=True, tol=0.001, verbose=False),\n",
       "       fit_params=None, iid=True, n_jobs=1,\n",
       "       param_grid={'degree': [2, 3, 4, 5], 'C': [0.1, 1, 5, 10, 30, 50, 100]},\n",
       "       pre_dispatch='2*n_jobs', refit=True, return_train_score='warn',\n",
       "       scoring=None, verbose=0)"
      ]
     },
     "execution_count": 39,
     "metadata": {},
     "output_type": "execute_result"
    }
   ],
   "source": [
    "from sklearn.model_selection import GridSearchCV\n",
    "from sklearn.svm import SVR\n",
    "\n",
    "svr = SVR(kernel = 'rbf')\n",
    "param_grid = {'C':[0.1, 1, 5, 10, 30, 50, 100], \n",
    "              'degree': [2, 3, 4, 5]}\n",
    "\n",
    "grid_search = GridSearchCV(svr, param_grid, cv = 5)\n",
    "grid_search.fit(X_train_a, y_train)\n"
   ]
  },
  {
   "cell_type": "code",
   "execution_count": 40,
   "metadata": {},
   "outputs": [
    {
     "name": "stdout",
     "output_type": "stream",
     "text": [
      "Best parameters{'degree': 2, 'C': 100}\n",
      "Best score 0.383862\n"
     ]
    }
   ],
   "source": [
    "print('Best parameters{}'.format(grid_search.best_params_))\n",
    "print('Best score {:.6f}'.format(grid_search.best_score_))"
   ]
  },
  {
   "cell_type": "code",
   "execution_count": 41,
   "metadata": {},
   "outputs": [],
   "source": [
    "svr_rbf = SVR(kernel='rbf', C=100, gamma=0.5)\n",
    "svr_poly = SVR(kernel='poly', C=100, degree=2)\n",
    "y_rbf = svr_rbf.fit(X_train_a, y_train).predict(X)\n",
    "y_poly = svr_poly.fit(X_train_a, y_train).predict(X)"
   ]
  },
  {
   "cell_type": "code",
   "execution_count": 42,
   "metadata": {},
   "outputs": [
    {
     "data": {
      "text/plain": [
       "0.7777759167396876"
      ]
     },
     "execution_count": 42,
     "metadata": {},
     "output_type": "execute_result"
    }
   ],
   "source": [
    "svr_rbf.score(X_test_a, y_test)"
   ]
  },
  {
   "cell_type": "code",
   "execution_count": 43,
   "metadata": {},
   "outputs": [
    {
     "data": {
      "text/plain": [
       "0.25980665818372184"
      ]
     },
     "execution_count": 43,
     "metadata": {},
     "output_type": "execute_result"
    }
   ],
   "source": [
    "svr_poly.score(X_test_a, y_test)"
   ]
  },
  {
   "cell_type": "markdown",
   "metadata": {},
   "source": [
    "## Conclusion from the model selection\n",
    "From all of the model above we can select the best model by their score, and we can start to use that model to predict the price.\n",
    "In here, we choose the Ridge model because its score is not that high as other models which can be over-fitting but it's not as low as kerneled SVM model which might cause the under-fitted model."
   ]
  },
  {
   "cell_type": "markdown",
   "metadata": {},
   "source": [
    "# Starting to predict the bitcoin price\n",
    "We decide to use the whole data set except the date to predict the price.                \n",
    "The reason of dropping the date variable is to avoid the time-series problem."
   ]
  },
  {
   "cell_type": "markdown",
   "metadata": {},
   "source": [
    "### Drop the variable and fill in the null value"
   ]
  },
  {
   "cell_type": "code",
   "execution_count": 44,
   "metadata": {},
   "outputs": [],
   "source": [
    "test_X = test.drop(['Date'], axis = 1)"
   ]
  },
  {
   "cell_type": "code",
   "execution_count": 45,
   "metadata": {},
   "outputs": [],
   "source": [
    "test_X_a = test_X.fillna(method = 'pad')"
   ]
  },
  {
   "cell_type": "markdown",
   "metadata": {},
   "source": [
    "### Use MinMaxScaler to scaling the test data set"
   ]
  },
  {
   "cell_type": "code",
   "execution_count": 46,
   "metadata": {},
   "outputs": [],
   "source": [
    "test_X2 = scaler.transform(test_X_a)"
   ]
  },
  {
   "cell_type": "markdown",
   "metadata": {},
   "source": [
    "## Run the model to predict the price"
   ]
  },
  {
   "cell_type": "markdown",
   "metadata": {},
   "source": [
    "From the predict model we can get our predicted price."
   ]
  },
  {
   "cell_type": "code",
   "execution_count": 48,
   "metadata": {},
   "outputs": [
    {
     "name": "stdout",
     "output_type": "stream",
     "text": [
      "[ 9880.50089181 10546.93716287  9500.07697421  9925.51746133\n",
      "  9395.6406527  10012.10635768  9182.47259127  9091.20100897\n",
      "  9229.56562968  8973.22931462  9332.42297376  9984.44725209\n",
      "  9577.27232799 10423.5001337 ]\n"
     ]
    }
   ],
   "source": [
    "ridge_reg = Ridge(alpha=30).fit(X_train_a, y_train)\n",
    "y_pred = ridge_reg.predict(test_X2)\n",
    "print(y_pred)"
   ]
  }
 ],
 "metadata": {
  "kernelspec": {
   "display_name": "Python 3",
   "language": "python",
   "name": "python3"
  },
  "language_info": {
   "codemirror_mode": {
    "name": "ipython",
    "version": 3
   },
   "file_extension": ".py",
   "mimetype": "text/x-python",
   "name": "python",
   "nbconvert_exporter": "python",
   "pygments_lexer": "ipython3",
   "version": "3.5.4"
  }
 },
 "nbformat": 4,
 "nbformat_minor": 2
}
